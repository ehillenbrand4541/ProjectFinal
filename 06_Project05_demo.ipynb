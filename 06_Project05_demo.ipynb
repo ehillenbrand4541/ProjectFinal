{
 "cells": [
  {
   "cell_type": "code",
   "execution_count": 1,
   "metadata": {
    "ExecuteTime": {
     "end_time": "2019-12-09T19:50:57.596353Z",
     "start_time": "2019-12-09T19:50:28.144886Z"
    }
   },
   "outputs": [],
   "source": [
    "import pickle\n",
    "import pandas as pd\n",
    "from p05_nlp import display_topics\n",
    "from sklearn.metrics.pairwise import cosine_similarity"
   ]
  },
  {
   "cell_type": "code",
   "execution_count": 2,
   "metadata": {
    "ExecuteTime": {
     "end_time": "2019-12-09T19:50:57.615145Z",
     "start_time": "2019-12-09T19:50:57.609677Z"
    }
   },
   "outputs": [],
   "source": [
    "import ipywidgets as widgets\n",
    "from IPython.display import display\n",
    "from ipywidgets import HBox, Label, IntSlider, FloatSlider\n",
    "from ipywidgets import Button, Layout"
   ]
  },
  {
   "cell_type": "code",
   "execution_count": 3,
   "metadata": {
    "ExecuteTime": {
     "end_time": "2019-12-09T19:50:59.942910Z",
     "start_time": "2019-12-09T19:50:57.633638Z"
    }
   },
   "outputs": [],
   "source": [
    "from PIL import Image\n",
    "import requests\n",
    "from io import BytesIO"
   ]
  },
  {
   "cell_type": "code",
   "execution_count": 4,
   "metadata": {
    "ExecuteTime": {
     "end_time": "2019-12-09T19:51:03.138652Z",
     "start_time": "2019-12-09T19:50:59.958572Z"
    }
   },
   "outputs": [],
   "source": [
    "with open(\"df_all_cleaned.pickle\", \"rb\") as read_file:\n",
    "    df_all = pickle.load(read_file)"
   ]
  },
  {
   "cell_type": "code",
   "execution_count": 5,
   "metadata": {
    "ExecuteTime": {
     "end_time": "2019-12-09T19:51:03.592224Z",
     "start_time": "2019-12-09T19:51:03.570240Z"
    }
   },
   "outputs": [],
   "source": [
    "with open(\"df_topics.pickle\", \"rb\") as read_file:\n",
    "    df_topics = pickle.load(read_file)"
   ]
  },
  {
   "cell_type": "code",
   "execution_count": 6,
   "metadata": {
    "ExecuteTime": {
     "end_time": "2019-12-09T19:51:03.762057Z",
     "start_time": "2019-12-09T19:51:03.722391Z"
    }
   },
   "outputs": [],
   "source": [
    "with open(\"reviews_nmf_df.pickle\", \"rb\") as read_file:\n",
    "    reviews_nmf_df = pickle.load(read_file)"
   ]
  },
  {
   "cell_type": "code",
   "execution_count": 7,
   "metadata": {
    "ExecuteTime": {
     "end_time": "2019-12-09T19:51:08.201411Z",
     "start_time": "2019-12-09T19:51:08.141685Z"
    }
   },
   "outputs": [],
   "source": [
    "with open(\"nmf_topics.pickle\", \"rb\") as read_file:\n",
    "    topic_labels = pickle.load(read_file)"
   ]
  },
  {
   "cell_type": "code",
   "execution_count": 8,
   "metadata": {
    "ExecuteTime": {
     "end_time": "2019-12-09T19:51:15.753877Z",
     "start_time": "2019-12-09T19:51:15.588682Z"
    }
   },
   "outputs": [],
   "source": [
    "with open(\"nmf_components.pickle\", \"rb\") as read_file:\n",
    "    nmf_components = pickle.load(read_file)"
   ]
  },
  {
   "cell_type": "code",
   "execution_count": 9,
   "metadata": {
    "ExecuteTime": {
     "end_time": "2019-12-09T19:51:22.479611Z",
     "start_time": "2019-12-09T19:51:22.425160Z"
    }
   },
   "outputs": [],
   "source": [
    "with open(\"reviews_feature_names_nmf.pickle\", \"rb\") as read_file:\n",
    "    topic_contents = pickle.load(read_file)"
   ]
  },
  {
   "cell_type": "code",
   "execution_count": 10,
   "metadata": {
    "ExecuteTime": {
     "end_time": "2019-12-09T19:51:33.164670Z",
     "start_time": "2019-12-09T19:51:33.067640Z"
    }
   },
   "outputs": [
    {
     "name": "stdout",
     "output_type": "stream",
     "text": [
      "\n",
      "Topic: ' Art/Classic '\n",
      "french, art, cinema, war, image, camera, leave, experience, book, beautiful, dream, woman, mind, documentary, reality\n",
      "\n",
      "Topic: ' Gory/Scary '\n",
      "horror, gore, slasher, halloween, house, scary, killer, scare, craven, creepy, murr, blood, kill, effect, ghost\n",
      "\n",
      "Topic: ' Sci Fi '\n",
      "alien, sci_fi, planet, space, science, ear, ship, effect, mars, fiction, robot, spaceship, special, scientist, budget\n",
      "\n",
      "Topic: ' Vampires '\n",
      "vampire, dracula, horror, hammer, blood, count, carmilla, cushing, castle, martin, nosferatu, helse, kronos, sarandon, susan\n",
      "\n",
      "Topic: ' Silly '\n",
      "comedy, funny, laugh, joke, humor, hilarious, gag, fun, sketch, python, funniest, guy, stupid, monty_python, humour\n",
      "\n",
      "Topic: ' Animated '\n",
      "animation, animate, anime, disney, cartoon, cat, fritz, voice, japanese, ralph, ult, animated, wizard, fantasy, rabbit\n",
      "\n",
      "Topic: ' Martial Arts '\n",
      "martial, kung_fu, fight, action, kong, art, hong, dragon, chinese, japanese, master, chow, fighting, tournament, fighter\n",
      "\n",
      "Topic: ' Music Documentary '\n",
      "band, music, concert, rock, song, punk, beatle, documentary, musical, album, stone, fan, musician, footage, zappa\n",
      "\n",
      "Topic: ' Living Dead '\n",
      "zombie, horror, gore, fulci, shaun, corpse, dawn, lugosi, live, night, budget, cemetery, island, rob, lionel\n",
      "\n",
      "Topic: ' Giant Monster '\n",
      "monster, godzilla, creature, frankenstein, giant, dracula, beast, scientist, japanese, island, effect, horror, gamera, dr, attack\n",
      "\n",
      "Topic: ' Russia '\n",
      "russian, soviet, polish, russia, poland, communist, comedy, moscow, katya, communism, shurik, union, regime, nikulin, leningr\n",
      "\n",
      "Topic: ' Sex '\n",
      "sex, woman, porn, gay, sexual, rape, erotic, girl, bian, male, explicit, female, relationship, nudity, violence\n",
      "\n",
      "Topic: ' Gold '\n",
      "leprechaun, lep, gold, cody, vegas, bridget, hood, horror, space, coin, rap, clover, series, mack, las\n",
      "\n",
      "Topic: ' Action '\n",
      "action, cop, gang, western, noir, violence, police, kill, killer, crime, car, gangster, performance, gun, guy\n",
      "\n",
      "Topic: ' Kids '\n",
      "school, teen, kid, girl, high, teacher, teenager, boy, young, stunt, parent, friend, child, teenage, heaer\n",
      "\n",
      "Topic: ' Holiday '\n",
      "christmas, santa, claus, holiday, martian, halloween, arur, child, ralphie, slasher, mars, toy, kid, burton, night\n"
     ]
    }
   ],
   "source": [
    "display_topics(nmf_components, topic_contents, num_top_words=15, topic_names=topic_labels)"
   ]
  },
  {
   "cell_type": "code",
   "execution_count": 18,
   "metadata": {
    "ExecuteTime": {
     "end_time": "2019-12-09T20:16:57.024531Z",
     "start_time": "2019-12-09T20:16:56.917488Z"
    },
    "code_folding": [
     0
    ]
   },
   "outputs": [
    {
     "data": {
      "application/vnd.jupyter.widget-view+json": {
       "model_id": "874ca5668e884ee3a4c5b2bfd3cb440a",
       "version_major": 2,
       "version_minor": 0
      },
      "text/plain": [
       "HBox(children=(Text(value='', description='Title:', layout=Layout(width='50%'), placeholder='Enter a movie tit…"
      ]
     },
     "metadata": {},
     "output_type": "display_data"
    },
    {
     "name": "stdout",
     "output_type": "stream",
     "text": [
      "You entered: Shaun of the Dead\n"
     ]
    },
    {
     "data": {
      "image/png": "[encoded data removed]",
      "text/plain": [
       "<PIL.JpegImagePlugin.JpegImageFile image mode=RGB size=220x165 at 0x1A224CD4E0>"
      ]
     },
     "metadata": {},
     "output_type": "display_data"
    }
   ],
   "source": [
    "# create text box to receive input movie\n",
    "btn_layout = Layout(width='20%', height='29px')\n",
    "gen_btn = Button(description='Generate', layout=btn_layout)\n",
    "# rec_btn = Button(description='Recommend', layout=btn_layout)\n",
    "\n",
    "text_layout = Layout(width='50%')\n",
    "movie_title = widgets.Text(placeholder='Enter a movie title', description='Title:', \n",
    "                           layout=text_layout, disabled=False)\n",
    "display(HBox([movie_title, gen_btn]))\n",
    "\n",
    "def movie_info(movie_title):\n",
    "    title = movie_title.value\n",
    "    print(\"You entered: {}\".format(title))\n",
    "    url = 'https://' + list(df_all[df_all['title']==title]['poster_url'])[0]\n",
    "    response = requests.get(url)\n",
    "    img = Image.open(BytesIO(response.content))\n",
    "    display(img)\n",
    "    \n",
    "def on_gen_btn_clicked(gen_btn):\n",
    "    movie_info(movie_title)\n",
    "    \n",
    "gen_btn.on_click(on_gen_btn_clicked)"
   ]
  },
  {
   "cell_type": "code",
   "execution_count": 29,
   "metadata": {
    "ExecuteTime": {
     "end_time": "2019-12-09T21:46:07.128369Z",
     "start_time": "2019-12-09T21:46:06.425680Z"
    },
    "code_folding": [
     0
    ]
   },
   "outputs": [
    {
     "data": {
      "application/vnd.jupyter.widget-view+json": {
       "model_id": "92a3f44916cc44ad80e774a4f3aebfb8",
       "version_major": 2,
       "version_minor": 0
      },
      "text/plain": [
       "HBox(children=(FloatSlider(value=0.0, description='Art/Classic', layout=Layout(width='60%'), style=SliderStyle…"
      ]
     },
     "metadata": {},
     "output_type": "display_data"
    },
    {
     "data": {
      "application/vnd.jupyter.widget-view+json": {
       "model_id": "86fdc55eec3e43ba9196a37ba2653584",
       "version_major": 2,
       "version_minor": 0
      },
      "text/plain": [
       "HBox(children=(FloatSlider(value=1.218324829692263, description='Gory/Scary', layout=Layout(width='60%'), styl…"
      ]
     },
     "metadata": {},
     "output_type": "display_data"
    },
    {
     "data": {
      "application/vnd.jupyter.widget-view+json": {
       "model_id": "7fe500dbb6ba41088eb4380eac150832",
       "version_major": 2,
       "version_minor": 0
      },
      "text/plain": [
       "HBox(children=(FloatSlider(value=1.251425991719007, description='Sci Fi', layout=Layout(width='60%'), style=Sl…"
      ]
     },
     "metadata": {},
     "output_type": "display_data"
    },
    {
     "data": {
      "application/vnd.jupyter.widget-view+json": {
       "model_id": "33dcafd5319346bd8fae293c3d7d0e2e",
       "version_major": 2,
       "version_minor": 0
      },
      "text/plain": [
       "HBox(children=(FloatSlider(value=0.4670144789189249, description='Vampires', layout=Layout(width='60%'), style…"
      ]
     },
     "metadata": {},
     "output_type": "display_data"
    },
    {
     "data": {
      "application/vnd.jupyter.widget-view+json": {
       "model_id": "751f3f5dc961442aa27196d4569b99bb",
       "version_major": 2,
       "version_minor": 0
      },
      "text/plain": [
       "HBox(children=(FloatSlider(value=41.586036134942056, description='Silly', layout=Layout(width='60%'), style=Sl…"
      ]
     },
     "metadata": {},
     "output_type": "display_data"
    },
    {
     "data": {
      "application/vnd.jupyter.widget-view+json": {
       "model_id": "2d1385230c2c46c6973e6a51668c6b07",
       "version_major": 2,
       "version_minor": 0
      },
      "text/plain": [
       "HBox(children=(FloatSlider(value=0.0, description='Animated', layout=Layout(width='60%'), style=SliderStyle(de…"
      ]
     },
     "metadata": {},
     "output_type": "display_data"
    },
    {
     "data": {
      "application/vnd.jupyter.widget-view+json": {
       "model_id": "caba0365685b4cec865f6049415c3f45",
       "version_major": 2,
       "version_minor": 0
      },
      "text/plain": [
       "HBox(children=(FloatSlider(value=0.0, description='Martial Arts', layout=Layout(width='60%'), style=SliderStyl…"
      ]
     },
     "metadata": {},
     "output_type": "display_data"
    },
    {
     "data": {
      "application/vnd.jupyter.widget-view+json": {
       "model_id": "943e4d9f66e64a259e4817d5cbe32f7b",
       "version_major": 2,
       "version_minor": 0
      },
      "text/plain": [
       "HBox(children=(FloatSlider(value=0.0, description='Music Documentary', layout=Layout(width='60%'), style=Slide…"
      ]
     },
     "metadata": {},
     "output_type": "display_data"
    },
    {
     "data": {
      "application/vnd.jupyter.widget-view+json": {
       "model_id": "1a8fd2e898d04630bef6351bce16ecce",
       "version_major": 2,
       "version_minor": 0
      },
      "text/plain": [
       "HBox(children=(FloatSlider(value=90.9248278116863, description='Living Dead', layout=Layout(width='60%'), styl…"
      ]
     },
     "metadata": {},
     "output_type": "display_data"
    },
    {
     "data": {
      "application/vnd.jupyter.widget-view+json": {
       "model_id": "283cbf1ddb594b898de463391ec4ede6",
       "version_major": 2,
       "version_minor": 0
      },
      "text/plain": [
       "HBox(children=(FloatSlider(value=0.0, description='Giant Monster', layout=Layout(width='60%'), style=SliderSty…"
      ]
     },
     "metadata": {},
     "output_type": "display_data"
    },
    {
     "data": {
      "application/vnd.jupyter.widget-view+json": {
       "model_id": "2dc55685adc445f99bd9c379e7c571fb",
       "version_major": 2,
       "version_minor": 0
      },
      "text/plain": [
       "HBox(children=(FloatSlider(value=0.0, description='Russia', layout=Layout(width='60%'), style=SliderStyle(desc…"
      ]
     },
     "metadata": {},
     "output_type": "display_data"
    },
    {
     "data": {
      "application/vnd.jupyter.widget-view+json": {
       "model_id": "f5c8457dfb58481fa25f8b5d42e0dbb9",
       "version_major": 2,
       "version_minor": 0
      },
      "text/plain": [
       "HBox(children=(FloatSlider(value=0.0, description='Sex', layout=Layout(width='60%'), style=SliderStyle(descrip…"
      ]
     },
     "metadata": {},
     "output_type": "display_data"
    },
    {
     "data": {
      "application/vnd.jupyter.widget-view+json": {
       "model_id": "203248b7ab034fb5ad452bd35d37598a",
       "version_major": 2,
       "version_minor": 0
      },
      "text/plain": [
       "HBox(children=(FloatSlider(value=0.09381402653732081, description='Gold', layout=Layout(width='60%'), style=Sl…"
      ]
     },
     "metadata": {},
     "output_type": "display_data"
    },
    {
     "data": {
      "application/vnd.jupyter.widget-view+json": {
       "model_id": "26e6269d0c904e10a1a89f00c19b5471",
       "version_major": 2,
       "version_minor": 0
      },
      "text/plain": [
       "HBox(children=(FloatSlider(value=0.0, description='Action', layout=Layout(width='60%'), style=SliderStyle(desc…"
      ]
     },
     "metadata": {},
     "output_type": "display_data"
    },
    {
     "data": {
      "application/vnd.jupyter.widget-view+json": {
       "model_id": "a76febdbc5c643609bdbcad7b77fabe4",
       "version_major": 2,
       "version_minor": 0
      },
      "text/plain": [
       "HBox(children=(FloatSlider(value=0.0, description='Kids', layout=Layout(width='60%'), style=SliderStyle(descri…"
      ]
     },
     "metadata": {},
     "output_type": "display_data"
    },
    {
     "data": {
      "application/vnd.jupyter.widget-view+json": {
       "model_id": "231a5d799b6a4d46af87adcfdcf561ca",
       "version_major": 2,
       "version_minor": 0
      },
      "text/plain": [
       "HBox(children=(FloatSlider(value=0.0, description='Holiday', layout=Layout(width='60%'), style=SliderStyle(des…"
      ]
     },
     "metadata": {},
     "output_type": "display_data"
    }
   ],
   "source": [
    "# generate sliders based on input movie's topic distribution dictionary\n",
    "title_mask = df_topics['title']==movie_title.value\n",
    "dict_in = df_topics[title_mask].iloc[:,1:].to_dict('list') \n",
    "sliders={}\n",
    "float_text={}\n",
    "style = {'description_width': '150px'}\n",
    "sliders_layout = {'width': '60%'}\n",
    "float_text_layout = {'width': '70px'}\n",
    "for key, val in dict_in.items():\n",
    "    value = val[0]*100\n",
    "    sliders[key] = widgets.FloatSlider(value=value, min=0.0, max=100.0, \n",
    "                                       readout_format='.2f', description=key,\n",
    "                                       style=style, layout=sliders_layout)\n",
    "    float_text[key] = widgets.FloatText(value=value, step='0.01', layout=float_text_layout)\n",
    "    display(HBox([sliders[key], float_text[key]]))\n",
    "\n",
    "links = {}\n",
    "for key, val in dict_in.items():\n",
    "    links[key] = widgets.jslink((float_text[key], 'value'), (sliders[key], 'value'))"
   ]
  },
  {
   "cell_type": "code",
   "execution_count": 30,
   "metadata": {
    "ExecuteTime": {
     "end_time": "2019-12-09T21:46:09.095764Z",
     "start_time": "2019-12-09T21:46:09.052561Z"
    },
    "code_folding": [
     0
    ]
   },
   "outputs": [
    {
     "data": {
      "text/html": [
       "<div>\n",
       "<style scoped>\n",
       "    .dataframe tbody tr th:only-of-type {\n",
       "        vertical-align: middle;\n",
       "    }\n",
       "\n",
       "    .dataframe tbody tr th {\n",
       "        vertical-align: top;\n",
       "    }\n",
       "\n",
       "    .dataframe thead th {\n",
       "        text-align: right;\n",
       "    }\n",
       "</style>\n",
       "<table border=\"1\" class=\"dataframe\">\n",
       "  <thead>\n",
       "    <tr style=\"text-align: right;\">\n",
       "      <th></th>\n",
       "      <th>title</th>\n",
       "      <th>similarity</th>\n",
       "    </tr>\n",
       "  </thead>\n",
       "  <tbody>\n",
       "    <tr>\n",
       "      <th>199</th>\n",
       "      <td>Braindead</td>\n",
       "      <td>0.947799</td>\n",
       "    </tr>\n",
       "    <tr>\n",
       "      <th>1229</th>\n",
       "      <td>The Return of the Living Dead</td>\n",
       "      <td>0.947115</td>\n",
       "    </tr>\n",
       "    <tr>\n",
       "      <th>515</th>\n",
       "      <td>Fido</td>\n",
       "      <td>0.946370</td>\n",
       "    </tr>\n",
       "    <tr>\n",
       "      <th>1669</th>\n",
       "      <td>Zodiac</td>\n",
       "      <td>0.909248</td>\n",
       "    </tr>\n",
       "    <tr>\n",
       "      <th>362</th>\n",
       "      <td>Day of the Dead</td>\n",
       "      <td>0.906806</td>\n",
       "    </tr>\n",
       "  </tbody>\n",
       "</table>\n",
       "</div>"
      ],
      "text/plain": [
       "                              title  similarity\n",
       "199   Braindead                      0.947799  \n",
       "1229  The Return of the Living Dead  0.947115  \n",
       "515   Fido                           0.946370  \n",
       "1669  Zodiac                         0.909248  \n",
       "362   Day of the Dead                0.906806  "
      ]
     },
     "metadata": {},
     "output_type": "display_data"
    }
   ],
   "source": [
    "# get recommended movies\n",
    "sliders_dict = {}\n",
    "topics = list(dict_in.keys())\n",
    "for top in topics:\n",
    "    sliders_dict[top] = [sliders[top].value/100]\n",
    "\n",
    "def topic_levels(dict_in):\n",
    "    '''\n",
    "    Generates a list of top 5 most similar movies based on topic distribution from sliders.\n",
    "    Does not include the input movie used to generate sliders.\n",
    "    'Similarity' column indicates similarity to the sliders, not to the input movie.\n",
    "    '''\n",
    "    # create df_in from dict_in\n",
    "    df_in = pd.DataFrame.from_dict(dict_in)\n",
    "    topics = df_in.columns\n",
    "    # get slice of df_topics\n",
    "    df_slice = df_topics.loc[~title_mask,topics]\n",
    "    # do cosine similarity\n",
    "    movie_sim = cosine_similarity(df_slice,df_in)\n",
    "    # get recommendations\n",
    "    movie_rec = pd.concat([df_all['title'],pd.DataFrame(movie_sim)], axis=1)\n",
    "    movie_rec.rename(columns={'title':'title', 0:'similarity'}, inplace=True)\n",
    "    #return list of movies\n",
    "    return movie_rec.sort_values(by='similarity',ascending=False).head(5)\n",
    "\n",
    "pd.set_option('display.max_colwidth', -1)\n",
    "recommended = topic_levels(sliders_dict)\n",
    "display(recommended)"
   ]
  },
  {
   "cell_type": "code",
   "execution_count": null,
   "metadata": {},
   "outputs": [],
   "source": []
  }
 ],
 "metadata": {
  "kernelspec": {
   "display_name": "Python 3",
   "language": "python",
   "name": "python3"
  },
  "language_info": {
   "codemirror_mode": {
    "name": "ipython",
    "version": 3
   },
   "file_extension": ".py",
   "mimetype": "text/x-python",
   "name": "python",
   "nbconvert_exporter": "python",
   "pygments_lexer": "ipython3",
   "version": "3.7.3"
  },
  "toc": {
   "base_numbering": 1,
   "nav_menu": {},
   "number_sections": true,
   "sideBar": true,
   "skip_h1_title": false,
   "title_cell": "Table of Contents",
   "title_sidebar": "Contents",
   "toc_cell": false,
   "toc_position": {},
   "toc_section_display": true,
   "toc_window_display": false
  },
  "varInspector": {
   "cols": {
    "lenName": 16,
    "lenType": 16,
    "lenVar": 40
   },
   "kernels_config": {
    "python": {
     "delete_cmd_postfix": "",
     "delete_cmd_prefix": "del ",
     "library": "var_list.py",
     "varRefreshCmd": "print(var_dic_list())"
    },
    "r": {
     "delete_cmd_postfix": ") ",
     "delete_cmd_prefix": "rm(",
     "library": "var_list.r",
     "varRefreshCmd": "cat(var_dic_list()) "
    }
   },
   "types_to_exclude": [
    "module",
    "function",
    "builtin_function_or_method",
    "instance",
    "_Feature"
   ],
   "window_display": false
  }
 },
 "nbformat": 4,
 "nbformat_minor": 2
}
