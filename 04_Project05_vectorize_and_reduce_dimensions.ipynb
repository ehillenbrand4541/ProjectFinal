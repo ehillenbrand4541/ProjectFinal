{
 "cells": [
  {
   "cell_type": "code",
   "execution_count": 1,
   "metadata": {
    "ExecuteTime": {
     "end_time": "2019-12-02T18:48:40.729562Z",
     "start_time": "2019-12-02T18:48:34.170977Z"
    }
   },
   "outputs": [],
   "source": [
    "import pickle\n",
    "import pandas as pd"
   ]
  },
  {
   "cell_type": "code",
   "execution_count": 2,
   "metadata": {
    "ExecuteTime": {
     "end_time": "2019-12-02T18:48:42.731866Z",
     "start_time": "2019-12-02T18:48:40.734712Z"
    }
   },
   "outputs": [],
   "source": [
    "with open(\"df_all_cleaned.pickle\", \"rb\") as read_file:\n",
    "    df_all = pickle.load(read_file)"
   ]
  },
  {
   "cell_type": "code",
   "execution_count": 3,
   "metadata": {
    "ExecuteTime": {
     "end_time": "2019-12-02T18:49:05.370713Z",
     "start_time": "2019-12-02T18:48:42.736457Z"
    }
   },
   "outputs": [],
   "source": [
    "from p05_nlp import vectorize_tfidf\n",
    "from p05_nlp import reduce_dim_lsa\n",
    "from p05_nlp import reduce_dim_lda\n",
    "from p05_nlp import reduce_dim_nmf\n",
    "from p05_nlp import display_topics"
   ]
  },
  {
   "cell_type": "code",
   "execution_count": 4,
   "metadata": {
    "ExecuteTime": {
     "end_time": "2019-12-02T18:49:05.379431Z",
     "start_time": "2019-12-02T18:49:05.374806Z"
    }
   },
   "outputs": [],
   "source": [
    "import re"
   ]
  },
  {
   "cell_type": "markdown",
   "metadata": {},
   "source": [
    "# Indicate pd series to model"
   ]
  },
  {
   "cell_type": "code",
   "execution_count": 5,
   "metadata": {
    "ExecuteTime": {
     "end_time": "2019-12-02T18:49:05.684000Z",
     "start_time": "2019-12-02T18:49:05.384800Z"
    }
   },
   "outputs": [
    {
     "data": {
      "text/html": [
       "<div>\n",
       "<style scoped>\n",
       "    .dataframe tbody tr th:only-of-type {\n",
       "        vertical-align: middle;\n",
       "    }\n",
       "\n",
       "    .dataframe tbody tr th {\n",
       "        vertical-align: top;\n",
       "    }\n",
       "\n",
       "    .dataframe thead th {\n",
       "        text-align: right;\n",
       "    }\n",
       "</style>\n",
       "<table border=\"1\" class=\"dataframe\">\n",
       "  <thead>\n",
       "    <tr style=\"text-align: right;\">\n",
       "      <th></th>\n",
       "      <th>title</th>\n",
       "      <th>year</th>\n",
       "      <th>director</th>\n",
       "      <th>reviews_list</th>\n",
       "      <th>imdb_url</th>\n",
       "      <th>wiki_page</th>\n",
       "      <th>url</th>\n",
       "      <th>poster_url</th>\n",
       "      <th>reviews_clean</th>\n",
       "    </tr>\n",
       "  </thead>\n",
       "  <tbody>\n",
       "    <tr>\n",
       "      <th>0</th>\n",
       "      <td>200 Motels</td>\n",
       "      <td>1971</td>\n",
       "      <td>Tony Palmer</td>\n",
       "      <td>There is no film quite like 200 Motels, but a ...</td>\n",
       "      <td>https://www.imdb.com/title/tt0066732/</td>\n",
       "      <td>https://en.wikipedia.org/wiki/200_Motels</td>\n",
       "      <td>/wiki/200_Motels</td>\n",
       "      <td>upload.wikimedia.org/wikipedia/en/thumb/8/85/2...</td>\n",
       "      <td>like     motel     lot strange appearance  ...</td>\n",
       "    </tr>\n",
       "    <tr>\n",
       "      <th>1</th>\n",
       "      <td>2001: A Space Odyssey</td>\n",
       "      <td>1968</td>\n",
       "      <td>Stanley Kubrick</td>\n",
       "      <td>A stand-alone monument in cinema history, Stan...</td>\n",
       "      <td>https://www.imdb.com/title/tt0062622/</td>\n",
       "      <td>https://en.wikipedia.org/wiki/2001:_A_Space_Od...</td>\n",
       "      <td>/wiki/2001:_A_Space_Odyssey_(film)</td>\n",
       "      <td>upload.wikimedia.org/wikipedia/en/thumb/9/94/S...</td>\n",
       "      <td>stand monument cinema hi     stanley kubrick m...</td>\n",
       "    </tr>\n",
       "    <tr>\n",
       "      <th>2</th>\n",
       "      <td>37°2 le Matin (Betty Blue)</td>\n",
       "      <td>1986</td>\n",
       "      <td>Jean-Jacques Beineix</td>\n",
       "      <td>The Betty of the title is like a shooting star...</td>\n",
       "      <td>https://www.imdb.com/title/tt0090563/</td>\n",
       "      <td>https://en.wikipedia.org/wiki/Betty_Blue</td>\n",
       "      <td>/wiki/Betty_Blue</td>\n",
       "      <td>upload.wikimedia.org/wikipedia/en/thumb/9/9d/B...</td>\n",
       "      <td>betty title like shoot star     run hot bright...</td>\n",
       "    </tr>\n",
       "    <tr>\n",
       "      <th>3</th>\n",
       "      <td>42nd Street</td>\n",
       "      <td>1933</td>\n",
       "      <td>Lloyd Bacon</td>\n",
       "      <td>Most of the negative comments posted below see...</td>\n",
       "      <td>https://www.imdb.com/title/tt0024034/</td>\n",
       "      <td>https://en.wikipedia.org/wiki/42nd_Street_(film)</td>\n",
       "      <td>/wiki/42nd_Street_(film)</td>\n",
       "      <td>upload.wikimedia.org/wikipedia/en/thumb/8/8b/F...</td>\n",
       "      <td>negative comment post people don t like musica...</td>\n",
       "    </tr>\n",
       "    <tr>\n",
       "      <th>4</th>\n",
       "      <td>The 7th Voyage of Sinbad</td>\n",
       "      <td>1957</td>\n",
       "      <td>Nathan H. Juran</td>\n",
       "      <td>Arguably, Harryhausen's finest moment. I can't...</td>\n",
       "      <td>https://www.imdb.com/title/tt0051337/</td>\n",
       "      <td>https://en.wikipedia.org/wiki/The_7th_Voyage_o...</td>\n",
       "      <td>/wiki/The_7th_Voyage_of_Sinbad</td>\n",
       "      <td>upload.wikimedia.org/wikipedia/en/thumb/a/a6/S...</td>\n",
       "      <td>arguably     harryhausen fine moment     t hea...</td>\n",
       "    </tr>\n",
       "  </tbody>\n",
       "</table>\n",
       "</div>"
      ],
      "text/plain": [
       "                        title  year              director  \\\n",
       "0                  200 Motels  1971           Tony Palmer   \n",
       "1       2001: A Space Odyssey  1968       Stanley Kubrick   \n",
       "2  37°2 le Matin (Betty Blue)  1986  Jean-Jacques Beineix   \n",
       "3                 42nd Street  1933           Lloyd Bacon   \n",
       "4    The 7th Voyage of Sinbad  1957       Nathan H. Juran   \n",
       "\n",
       "                                        reviews_list  \\\n",
       "0  There is no film quite like 200 Motels, but a ...   \n",
       "1  A stand-alone monument in cinema history, Stan...   \n",
       "2  The Betty of the title is like a shooting star...   \n",
       "3  Most of the negative comments posted below see...   \n",
       "4  Arguably, Harryhausen's finest moment. I can't...   \n",
       "\n",
       "                                imdb_url  \\\n",
       "0  https://www.imdb.com/title/tt0066732/   \n",
       "1  https://www.imdb.com/title/tt0062622/   \n",
       "2  https://www.imdb.com/title/tt0090563/   \n",
       "3  https://www.imdb.com/title/tt0024034/   \n",
       "4  https://www.imdb.com/title/tt0051337/   \n",
       "\n",
       "                                           wiki_page  \\\n",
       "0           https://en.wikipedia.org/wiki/200_Motels   \n",
       "1  https://en.wikipedia.org/wiki/2001:_A_Space_Od...   \n",
       "2           https://en.wikipedia.org/wiki/Betty_Blue   \n",
       "3   https://en.wikipedia.org/wiki/42nd_Street_(film)   \n",
       "4  https://en.wikipedia.org/wiki/The_7th_Voyage_o...   \n",
       "\n",
       "                                  url  \\\n",
       "0                    /wiki/200_Motels   \n",
       "1  /wiki/2001:_A_Space_Odyssey_(film)   \n",
       "2                    /wiki/Betty_Blue   \n",
       "3            /wiki/42nd_Street_(film)   \n",
       "4      /wiki/The_7th_Voyage_of_Sinbad   \n",
       "\n",
       "                                          poster_url  \\\n",
       "0  upload.wikimedia.org/wikipedia/en/thumb/8/85/2...   \n",
       "1  upload.wikimedia.org/wikipedia/en/thumb/9/94/S...   \n",
       "2  upload.wikimedia.org/wikipedia/en/thumb/9/9d/B...   \n",
       "3  upload.wikimedia.org/wikipedia/en/thumb/8/8b/F...   \n",
       "4  upload.wikimedia.org/wikipedia/en/thumb/a/a6/S...   \n",
       "\n",
       "                                       reviews_clean  \n",
       "0     like     motel     lot strange appearance  ...  \n",
       "1  stand monument cinema hi     stanley kubrick m...  \n",
       "2  betty title like shoot star     run hot bright...  \n",
       "3  negative comment post people don t like musica...  \n",
       "4  arguably     harryhausen fine moment     t hea...  "
      ]
     },
     "execution_count": 5,
     "metadata": {},
     "output_type": "execute_result"
    }
   ],
   "source": [
    "df_all.head()"
   ]
  },
  {
   "cell_type": "code",
   "execution_count": 6,
   "metadata": {
    "ExecuteTime": {
     "end_time": "2019-12-02T18:49:05.719423Z",
     "start_time": "2019-12-02T18:49:05.688169Z"
    }
   },
   "outputs": [
    {
     "data": {
      "text/plain": [
       "pandas.core.series.Series"
      ]
     },
     "execution_count": 6,
     "metadata": {},
     "output_type": "execute_result"
    }
   ],
   "source": [
    "reviews = df_all['reviews_clean'].copy()\n",
    "type(reviews)"
   ]
  },
  {
   "cell_type": "markdown",
   "metadata": {},
   "source": [
    "# Additional text cleaning steps"
   ]
  },
  {
   "cell_type": "markdown",
   "metadata": {},
   "source": [
    "Remove names"
   ]
  },
  {
   "cell_type": "code",
   "execution_count": 7,
   "metadata": {
    "ExecuteTime": {
     "end_time": "2019-12-02T18:49:14.345238Z",
     "start_time": "2019-12-02T18:49:05.722984Z"
    }
   },
   "outputs": [],
   "source": [
    "names = ['allen','woody','bakshi','thomerson',\n",
    "         'jack','corman','roger','karloff',\n",
    "         'stanley','kubrick','harryhausen',\n",
    "         'tim','helen','megan','lena','mel',\n",
    "         'brooks','werner','herzog', 'william',\n",
    "         'wyler','matthew','hopkins','harry',\n",
    "         'bromley','davenport','dorothy','judy',\n",
    "         'garland','warhol','leone','sandler',\n",
    "         'adam','carpenter','warwick','davis',\n",
    "         'de','john','davis','woo','kevin',\n",
    "         'smith','fonda','jay','russell',\n",
    "         'cronenberg','bergman','reeve','lynch',\n",
    "         'palma','max','diane','cusack',\n",
    "         'michael','myers','ad','th','kieslowski',\n",
    "         'aniston','meyer','billy','jennifer',\n",
    "         'troma','van','damme', 'jean','bruce',\n",
    "         'lee','charles','george','romero',\n",
    "         'tarantino','trancer','deth','verhoeven',\n",
    "         'polanski','les','michel']\n",
    "rem_names =  lambda x: re.sub(\"|\".join(names), \"\", x)\n",
    "reviews = reviews.map(rem_names)\n",
    "            "
   ]
  },
  {
   "cell_type": "markdown",
   "metadata": {},
   "source": [
    "Correct typos"
   ]
  },
  {
   "cell_type": "code",
   "execution_count": 8,
   "metadata": {
    "ExecuteTime": {
     "end_time": "2019-12-02T18:49:14.417410Z",
     "start_time": "2019-12-02T18:49:14.348607Z"
    }
   },
   "outputs": [],
   "source": [
    "reviews = reviews.map(lambda x: re.sub('pyon', 'python', x))\n"
   ]
  },
  {
   "cell_type": "markdown",
   "metadata": {},
   "source": [
    "Remove duplicate whitespaces"
   ]
  },
  {
   "cell_type": "code",
   "execution_count": 9,
   "metadata": {
    "ExecuteTime": {
     "end_time": "2019-12-02T18:49:17.300666Z",
     "start_time": "2019-12-02T18:49:14.419605Z"
    }
   },
   "outputs": [],
   "source": [
    "# result = re.sub(r'\\s+', ' ',   input)           # Eliminate duplicate whitespaces\n",
    "rem_empty_space =  lambda x: re.sub(r'\\s+', ' ', x)\n",
    "reviews = reviews.map(rem_empty_space)"
   ]
  },
  {
   "cell_type": "markdown",
   "metadata": {},
   "source": [
    "Create custom bi-grams"
   ]
  },
  {
   "cell_type": "code",
   "execution_count": 10,
   "metadata": {
    "ExecuteTime": {
     "end_time": "2019-12-02T18:49:17.544470Z",
     "start_time": "2019-12-02T18:49:17.302878Z"
    }
   },
   "outputs": [],
   "source": [
    "reviews = reviews.map(lambda x: re.sub('monty python', 'monty_python', x))\n",
    "reviews = reviews.map(lambda x: re.sub('bruce lee', 'bruce_lee', x))\n",
    "reviews = reviews.map(lambda x: re.sub('sci fi', 'sci_fi', x))\n",
    "reviews = reviews.map(lambda x: re.sub('kung fu', 'kung_fu', x))\n",
    "reviews = reviews.map(lambda x: re.sub('spaghetti western', 'spaghetti_western', x))\n"
   ]
  },
  {
   "cell_type": "code",
   "execution_count": 11,
   "metadata": {
    "ExecuteTime": {
     "end_time": "2019-12-02T18:49:17.588376Z",
     "start_time": "2019-12-02T18:49:17.547622Z"
    }
   },
   "outputs": [],
   "source": [
    "# address = \"123 north anywhere street\"\n",
    "\n",
    "# for word, initial in {\"NORTH\":\"N\", \"SOUTH\":\"S\" }.items():\n",
    "#     address = address.replace(word.lower(), initial)\n",
    "# print address\n",
    "\n",
    "bigrams_dict = {'kung fu':'kung_fu','martial art':'martial_arts','special effect':'special_effect',\n",
    "               'monty python':'monty_python','bruce lee':'bruce_lee',\n",
    "               'sci fi':'sci_fi','spaghetti western':'spaghetti_western'}\n",
    "\n",
    "# create_bigrams = lambda x: str.replace(key, val for key, val in bigrams_dict)\n",
    "def create_bigrams(review):\n",
    "    for key, val in bigrams_dict.items():\n",
    "        review = review.replace(key, val)\n",
    "        return review\n",
    "        \n",
    "reviews = reviews.map(create_bigrams)"
   ]
  },
  {
   "cell_type": "code",
   "execution_count": 12,
   "metadata": {
    "ExecuteTime": {
     "end_time": "2019-12-02T18:49:17.610325Z",
     "start_time": "2019-12-02T18:49:17.592829Z"
    }
   },
   "outputs": [
    {
     "data": {
      "text/plain": [
       "0        like motel lot strange appearance especially ...\n",
       "1       stand monument cinema hi magnum opus space ody...\n",
       "2       betty title like shoot star run hot bright bur...\n",
       "3       negative comment post people don t like musica...\n",
       "4       arguably fine moment t he nominate venture fan...\n",
       "5       morn man recall love relationship case song sh...\n",
       "6        isn t people lot general course particular br...\n",
       "7        sensational infamous clockwork orange impossi...\n",
       "8       don t blame state unrstand superlative surroun...\n",
       "9       love ia coffin joe joseph grave love output lo...\n",
       "10      probably good horror comedy doesn t fun monste...\n",
       "11      dortmund mining company shut young people unem...\n",
       "12       probably horrible seriously fortunately didn ...\n",
       "13      m guess everybody know opportunity great simpl...\n",
       "14       diction original vampire fact t ink like abel...\n",
       "15      people plot sense prevertesque way mainly link...\n",
       "16      wasn t feel good today know finally chance sit...\n",
       "17      ve re comment people age trash crap ize fan va...\n",
       "18       crack note m fan andrew dice clay ink stand s...\n",
       "19      unlikely trio fall love unlikely landscape fit...\n",
       "20      collaboration jacques prevert kid broer pierre...\n",
       "21      scorsese mit rank hour draw dark surreal world...\n",
       "22      plotabhishek bachchan son amitabh interview fa...\n",
       "23       klaus kinski masterful achievement aguirre wr...\n",
       "24      category pict open sex controversial trick peo...\n",
       "25      love usual complex connse sake hard unrstand r...\n",
       "26      lovely librarian play playboy mol kristine bel...\n",
       "27      forget alice restaurant inspire oppose base ar...\n",
       "28      honest cinema expect like little bit trailer s...\n",
       "29      hard find mix animation music comedy real trea...\n",
       "                              ...                        \n",
       "1640     strong beautiful live memory year e college p...\n",
       "1641    low budget american possession flick cast witc...\n",
       "1642     self proclaim witchfinr start career essex en...\n",
       "1643    winail set old run stunt flat london camn town...\n",
       "1644    okay know people love wiz year eater release l...\n",
       "1645    wizard senental favorite race home school turn...\n",
       "1646     portrayal oddball oz friend rainbow rest fine...\n",
       "1647    inpennt short special effect genius mike jittl...\n",
       "1648    brilliant alter tone dark moody light whimsica...\n",
       "1649    let preface view trailer know know sen impact ...\n",
       "1650     dstock mean documentary famous day new york r...\n",
       "1651    catch tv know instantly captivate ing set live...\n",
       "1652    recently privilege view poor quality bootleg v...\n",
       "1653    find beauty strange place remarkably gruesome ...\n",
       "1654    director star laurence olivi bring life atmosp...\n",
       "1655    xanu critically commercially pan hollyd hi nou...\n",
       "1656    like director mention amusing upfront short in...\n",
       "1657     y tu mama tambien stun new product new mexica...\n",
       "1658     year later innovative d colorful clever diffe...\n",
       "1659    s franju atmospheric masterpiece tapestry cont...\n",
       "1660    wicked city favorite anime e didn t solid plot...\n",
       "1661    supposedly contain footage greta garbo home wa...\n",
       "1662     parody like favorite wear couch know great st...\n",
       "1663    preview z oscar receive standing ovation didn ...\n",
       "1664    idiotic scientist ci turn walk catfish monster...\n",
       "1665    e release zabriske point cause great division ...\n",
       "1666     truly awful e good sci_fi ve concept digest c...\n",
       "1667     blind swordsman zatoichi know aficiono japane...\n",
       "1668    cast brilliant actor let loose ing liver shine...\n",
       "1669     vigo short live career maker didn t unsuccess...\n",
       "Name: reviews_clean, Length: 1670, dtype: object"
      ]
     },
     "execution_count": 12,
     "metadata": {},
     "output_type": "execute_result"
    }
   ],
   "source": [
    "reviews"
   ]
  },
  {
   "cell_type": "markdown",
   "metadata": {},
   "source": [
    "# Vectorize with Tf-Idf"
   ]
  },
  {
   "cell_type": "code",
   "execution_count": 13,
   "metadata": {
    "ExecuteTime": {
     "end_time": "2019-12-02T18:49:25.374884Z",
     "start_time": "2019-12-02T18:49:17.614958Z"
    }
   },
   "outputs": [
    {
     "name": "stdout",
     "output_type": "stream",
     "text": [
      "       aa       aan  aaron        ab  aback   abandon  abandonment     abba  \\\n",
      "0     0.0  0.000000    0.0  0.000000    0.0  0.000000          0.0  0.00000   \n",
      "1     0.0  0.000000    0.0  0.000000    0.0  0.000000          0.0  0.00000   \n",
      "2     0.0  0.000000    0.0  0.000000    0.0  0.000000          0.0  0.00000   \n",
      "3     0.0  0.000000    0.0  0.000000    0.0  0.004250          0.0  0.00000   \n",
      "4     0.0  0.000000    0.0  0.000000    0.0  0.000000          0.0  0.00000   \n",
      "5     0.0  0.000000    0.0  0.000000    0.0  0.000000          0.0  0.00000   \n",
      "6     0.0  0.000000    0.0  0.000000    0.0  0.000000          0.0  0.00000   \n",
      "7     0.0  0.000000    0.0  0.000000    0.0  0.000000          0.0  0.00000   \n",
      "8     0.0  0.000000    0.0  0.016791    0.0  0.007285          0.0  0.00000   \n",
      "9     0.0  0.000000    0.0  0.000000    0.0  0.000000          0.0  0.00000   \n",
      "10    0.0  0.000000    0.0  0.000000    0.0  0.000000          0.0  0.00000   \n",
      "11    0.0  0.000000    0.0  0.000000    0.0  0.000000          0.0  0.00000   \n",
      "12    0.0  0.000000    0.0  0.000000    0.0  0.000000          0.0  0.00000   \n",
      "13    0.0  0.000000    0.0  0.000000    0.0  0.000000          0.0  0.00000   \n",
      "14    0.0  0.000000    0.0  0.000000    0.0  0.000000          0.0  0.00000   \n",
      "15    0.0  0.000000    0.0  0.000000    0.0  0.000000          0.0  0.00000   \n",
      "16    0.0  0.009974    0.0  0.000000    0.0  0.008414          0.0  0.00000   \n",
      "17    0.0  0.000000    0.0  0.000000    0.0  0.005700          0.0  0.00000   \n",
      "18    0.0  0.000000    0.0  0.000000    0.0  0.000000          0.0  0.00000   \n",
      "19    0.0  0.000000    0.0  0.000000    0.0  0.006679          0.0  0.20013   \n",
      "20    0.0  0.000000    0.0  0.000000    0.0  0.000000          0.0  0.00000   \n",
      "21    0.0  0.000000    0.0  0.000000    0.0  0.007442          0.0  0.00000   \n",
      "22    0.0  0.000000    0.0  0.000000    0.0  0.000000          0.0  0.00000   \n",
      "23    0.0  0.000000    0.0  0.000000    0.0  0.003100          0.0  0.00000   \n",
      "24    0.0  0.000000    0.0  0.000000    0.0  0.010015          0.0  0.00000   \n",
      "25    0.0  0.000000    0.0  0.000000    0.0  0.005147          0.0  0.00000   \n",
      "26    0.0  0.000000    0.0  0.000000    0.0  0.000000          0.0  0.00000   \n",
      "27    0.0  0.000000    0.0  0.000000    0.0  0.014469          0.0  0.00000   \n",
      "28    0.0  0.000000    0.0  0.000000    0.0  0.000000          0.0  0.00000   \n",
      "29    0.0  0.000000    0.0  0.000000    0.0  0.014066          0.0  0.00000   \n",
      "...   ...       ...    ...       ...    ...       ...          ...      ...   \n",
      "1640  0.0  0.000000    0.0  0.000000    0.0  0.000000          0.0  0.00000   \n",
      "1641  0.0  0.000000    0.0  0.000000    0.0  0.007339          0.0  0.00000   \n",
      "1642  0.0  0.000000    0.0  0.000000    0.0  0.000000          0.0  0.00000   \n",
      "1643  0.0  0.000000    0.0  0.000000    0.0  0.000000          0.0  0.00000   \n",
      "1644  0.0  0.000000    0.0  0.000000    0.0  0.000000          0.0  0.00000   \n",
      "1645  0.0  0.000000    0.0  0.000000    0.0  0.000000          0.0  0.00000   \n",
      "1646  0.0  0.000000    0.0  0.000000    0.0  0.000000          0.0  0.00000   \n",
      "1647  0.0  0.000000    0.0  0.000000    0.0  0.000000          0.0  0.00000   \n",
      "1648  0.0  0.000000    0.0  0.000000    0.0  0.000000          0.0  0.00000   \n",
      "1649  0.0  0.000000    0.0  0.000000    0.0  0.000000          0.0  0.00000   \n",
      "1650  0.0  0.000000    0.0  0.000000    0.0  0.005569          0.0  0.00000   \n",
      "1651  0.0  0.000000    0.0  0.000000    0.0  0.000000          0.0  0.00000   \n",
      "1652  0.0  0.000000    0.0  0.000000    0.0  0.012315          0.0  0.00000   \n",
      "1653  0.0  0.000000    0.0  0.000000    0.0  0.009561          0.0  0.00000   \n",
      "1654  0.0  0.000000    0.0  0.000000    0.0  0.000000          0.0  0.00000   \n",
      "1655  0.0  0.000000    0.0  0.000000    0.0  0.000000          0.0  0.02578   \n",
      "1656  0.0  0.000000    0.0  0.000000    0.0  0.000000          0.0  0.00000   \n",
      "1657  0.0  0.000000    0.0  0.000000    0.0  0.000000          0.0  0.00000   \n",
      "1658  0.0  0.000000    0.0  0.000000    0.0  0.000000          0.0  0.00000   \n",
      "1659  0.0  0.000000    0.0  0.000000    0.0  0.000000          0.0  0.00000   \n",
      "1660  0.0  0.000000    0.0  0.000000    0.0  0.000000          0.0  0.00000   \n",
      "1661  0.0  0.000000    0.0  0.000000    0.0  0.014657          0.0  0.00000   \n",
      "1662  0.0  0.000000    0.0  0.000000    0.0  0.000000          0.0  0.00000   \n",
      "1663  0.0  0.000000    0.0  0.000000    0.0  0.000000          0.0  0.00000   \n",
      "1664  0.0  0.000000    0.0  0.000000    0.0  0.000000          0.0  0.00000   \n",
      "1665  0.0  0.000000    0.0  0.000000    0.0  0.000000          0.0  0.00000   \n",
      "1666  0.0  0.000000    0.0  0.000000    0.0  0.000000          0.0  0.00000   \n",
      "1667  0.0  0.000000    0.0  0.000000    0.0  0.000000          0.0  0.00000   \n",
      "1668  0.0  0.000000    0.0  0.000000    0.0  0.000000          0.0  0.00000   \n",
      "1669  0.0  0.000000    0.0  0.000000    0.0  0.013430          0.0  0.00000   \n",
      "\n",
      "      abbey     abbot  ...    zombie  zombifie      zone       zoo  zooland  \\\n",
      "0       0.0  0.000000  ...  0.008688       0.0  0.000000  0.000000      0.0   \n",
      "1       0.0  0.000000  ...  0.000000       0.0  0.000000  0.000000      0.0   \n",
      "2       0.0  0.000000  ...  0.000000       0.0  0.000000  0.000000      0.0   \n",
      "3       0.0  0.000000  ...  0.000000       0.0  0.000000  0.000000      0.0   \n",
      "4       0.0  0.000000  ...  0.000000       0.0  0.000000  0.000000      0.0   \n",
      "5       0.0  0.000000  ...  0.000000       0.0  0.000000  0.000000      0.0   \n",
      "6       0.0  0.000000  ...  0.000000       0.0  0.000000  0.000000      0.0   \n",
      "7       0.0  0.000000  ...  0.000000       0.0  0.000000  0.000000      0.0   \n",
      "8       0.0  0.000000  ...  0.000000       0.0  0.000000  0.000000      0.0   \n",
      "9       0.0  0.000000  ...  0.025764       0.0  0.000000  0.000000      0.0   \n",
      "10      0.0  0.016037  ...  0.000000       0.0  0.000000  0.000000      0.0   \n",
      "11      0.0  0.000000  ...  0.000000       0.0  0.000000  0.000000      0.0   \n",
      "12      0.0  0.000000  ...  0.000000       0.0  0.000000  0.000000      0.0   \n",
      "13      0.0  0.000000  ...  0.000000       0.0  0.000000  0.000000      0.0   \n",
      "14      0.0  0.000000  ...  0.000000       0.0  0.000000  0.000000      0.0   \n",
      "15      0.0  0.000000  ...  0.000000       0.0  0.000000  0.000000      0.0   \n",
      "16      0.0  0.000000  ...  0.000000       0.0  0.000000  0.000000      0.0   \n",
      "17      0.0  0.000000  ...  0.000000       0.0  0.000000  0.000000      0.0   \n",
      "18      0.0  0.000000  ...  0.000000       0.0  0.000000  0.000000      0.0   \n",
      "19      0.0  0.000000  ...  0.000000       0.0  0.000000  0.000000      0.0   \n",
      "20      0.0  0.000000  ...  0.000000       0.0  0.000000  0.000000      0.0   \n",
      "21      0.0  0.000000  ...  0.000000       0.0  0.000000  0.000000      0.0   \n",
      "22      0.0  0.000000  ...  0.000000       0.0  0.000000  0.000000      0.0   \n",
      "23      0.0  0.000000  ...  0.000000       0.0  0.000000  0.000000      0.0   \n",
      "24      0.0  0.000000  ...  0.000000       0.0  0.000000  0.000000      0.0   \n",
      "25      0.0  0.000000  ...  0.000000       0.0  0.000000  0.000000      0.0   \n",
      "26      0.0  0.000000  ...  0.000000       0.0  0.000000  0.000000      0.0   \n",
      "27      0.0  0.000000  ...  0.000000       0.0  0.000000  0.000000      0.0   \n",
      "28      0.0  0.000000  ...  0.000000       0.0  0.000000  0.000000      0.0   \n",
      "29      0.0  0.000000  ...  0.000000       0.0  0.000000  0.000000      0.0   \n",
      "...     ...       ...  ...       ...       ...       ...       ...      ...   \n",
      "1640    0.0  0.000000  ...  0.000000       0.0  0.000000  0.000000      0.0   \n",
      "1641    0.0  0.000000  ...  0.000000       0.0  0.000000  0.000000      0.0   \n",
      "1642    0.0  0.000000  ...  0.000000       0.0  0.000000  0.000000      0.0   \n",
      "1643    0.0  0.000000  ...  0.000000       0.0  0.000000  0.009511      0.0   \n",
      "1644    0.0  0.000000  ...  0.000000       0.0  0.000000  0.000000      0.0   \n",
      "1645    0.0  0.000000  ...  0.000000       0.0  0.009948  0.000000      0.0   \n",
      "1646    0.0  0.000000  ...  0.000000       0.0  0.000000  0.000000      0.0   \n",
      "1647    0.0  0.000000  ...  0.000000       0.0  0.000000  0.000000      0.0   \n",
      "1648    0.0  0.000000  ...  0.000000       0.0  0.000000  0.000000      0.0   \n",
      "1649    0.0  0.000000  ...  0.000000       0.0  0.013745  0.000000      0.0   \n",
      "1650    0.0  0.000000  ...  0.006529       0.0  0.000000  0.000000      0.0   \n",
      "1651    0.0  0.000000  ...  0.000000       0.0  0.000000  0.000000      0.0   \n",
      "1652    0.0  0.000000  ...  0.000000       0.0  0.000000  0.000000      0.0   \n",
      "1653    0.0  0.000000  ...  0.000000       0.0  0.000000  0.000000      0.0   \n",
      "1654    0.0  0.000000  ...  0.000000       0.0  0.000000  0.000000      0.0   \n",
      "1655    0.0  0.000000  ...  0.000000       0.0  0.000000  0.000000      0.0   \n",
      "1656    0.0  0.000000  ...  0.000000       0.0  0.000000  0.000000      0.0   \n",
      "1657    0.0  0.000000  ...  0.000000       0.0  0.007592  0.000000      0.0   \n",
      "1658    0.0  0.000000  ...  0.000000       0.0  0.000000  0.000000      0.0   \n",
      "1659    0.0  0.000000  ...  0.000000       0.0  0.000000  0.000000      0.0   \n",
      "1660    0.0  0.000000  ...  0.000000       0.0  0.000000  0.000000      0.0   \n",
      "1661    0.0  0.000000  ...  0.000000       0.0  0.000000  0.000000      0.0   \n",
      "1662    0.0  0.000000  ...  0.000000       0.0  0.000000  0.000000      0.0   \n",
      "1663    0.0  0.000000  ...  0.000000       0.0  0.000000  0.000000      0.0   \n",
      "1664    0.0  0.000000  ...  0.000000       0.0  0.000000  0.000000      0.0   \n",
      "1665    0.0  0.000000  ...  0.000000       0.0  0.000000  0.000000      0.0   \n",
      "1666    0.0  0.000000  ...  0.000000       0.0  0.000000  0.000000      0.0   \n",
      "1667    0.0  0.000000  ...  0.000000       0.0  0.000000  0.000000      0.0   \n",
      "1668    0.0  0.000000  ...  0.000000       0.0  0.000000  0.000000      0.0   \n",
      "1669    0.0  0.000000  ...  0.000000       0.0  0.000000  0.000000      0.0   \n",
      "\n",
      "          zoom  zorro  zucker  zulu   zy  \n",
      "0     0.000000    0.0     0.0   0.0  0.0  \n",
      "1     0.000000    0.0     0.0   0.0  0.0  \n",
      "2     0.000000    0.0     0.0   0.0  0.0  \n",
      "3     0.000000    0.0     0.0   0.0  0.0  \n",
      "4     0.000000    0.0     0.0   0.0  0.0  \n",
      "5     0.000000    0.0     0.0   0.0  0.0  \n",
      "6     0.000000    0.0     0.0   0.0  0.0  \n",
      "7     0.000000    0.0     0.0   0.0  0.0  \n",
      "8     0.000000    0.0     0.0   0.0  0.0  \n",
      "9     0.000000    0.0     0.0   0.0  0.0  \n",
      "10    0.000000    0.0     0.0   0.0  0.0  \n",
      "11    0.000000    0.0     0.0   0.0  0.0  \n",
      "12    0.000000    0.0     0.0   0.0  0.0  \n",
      "13    0.000000    0.0     0.0   0.0  0.0  \n",
      "14    0.000000    0.0     0.0   0.0  0.0  \n",
      "15    0.000000    0.0     0.0   0.0  0.0  \n",
      "16    0.000000    0.0     0.0   0.0  0.0  \n",
      "17    0.000000    0.0     0.0   0.0  0.0  \n",
      "18    0.000000    0.0     0.0   0.0  0.0  \n",
      "19    0.000000    0.0     0.0   0.0  0.0  \n",
      "20    0.000000    0.0     0.0   0.0  0.0  \n",
      "21    0.000000    0.0     0.0   0.0  0.0  \n",
      "22    0.000000    0.0     0.0   0.0  0.0  \n",
      "23    0.000000    0.0     0.0   0.0  0.0  \n",
      "24    0.000000    0.0     0.0   0.0  0.0  \n",
      "25    0.000000    0.0     0.0   0.0  0.0  \n",
      "26    0.000000    0.0     0.0   0.0  0.0  \n",
      "27    0.000000    0.0     0.0   0.0  0.0  \n",
      "28    0.000000    0.0     0.0   0.0  0.0  \n",
      "29    0.000000    0.0     0.0   0.0  0.0  \n",
      "...        ...    ...     ...   ...  ...  \n",
      "1640  0.000000    0.0     0.0   0.0  0.0  \n",
      "1641  0.000000    0.0     0.0   0.0  0.0  \n",
      "1642  0.008377    0.0     0.0   0.0  0.0  \n",
      "1643  0.000000    0.0     0.0   0.0  0.0  \n",
      "1644  0.006133    0.0     0.0   0.0  0.0  \n",
      "1645  0.000000    0.0     0.0   0.0  0.0  \n",
      "1646  0.000000    0.0     0.0   0.0  0.0  \n",
      "1647  0.000000    0.0     0.0   0.0  0.0  \n",
      "1648  0.000000    0.0     0.0   0.0  0.0  \n",
      "1649  0.000000    0.0     0.0   0.0  0.0  \n",
      "1650  0.000000    0.0     0.0   0.0  0.0  \n",
      "1651  0.000000    0.0     0.0   0.0  0.0  \n",
      "1652  0.000000    0.0     0.0   0.0  0.0  \n",
      "1653  0.000000    0.0     0.0   0.0  0.0  \n",
      "1654  0.000000    0.0     0.0   0.0  0.0  \n",
      "1655  0.000000    0.0     0.0   0.0  0.0  \n",
      "1656  0.000000    0.0     0.0   0.0  0.0  \n",
      "1657  0.000000    0.0     0.0   0.0  0.0  \n",
      "1658  0.000000    0.0     0.0   0.0  0.0  \n",
      "1659  0.000000    0.0     0.0   0.0  0.0  \n",
      "1660  0.000000    0.0     0.0   0.0  0.0  \n",
      "1661  0.000000    0.0     0.0   0.0  0.0  \n",
      "1662  0.000000    0.0     0.0   0.0  0.0  \n",
      "1663  0.000000    0.0     0.0   0.0  0.0  \n",
      "1664  0.000000    0.0     0.0   0.0  0.0  \n",
      "1665  0.000000    0.0     0.0   0.0  0.0  \n",
      "1666  0.000000    0.0     0.0   0.0  0.0  \n",
      "1667  0.000000    0.0     0.0   0.0  0.0  \n",
      "1668  0.000000    0.0     0.0   0.0  0.0  \n",
      "1669  0.000000    0.0     0.0   0.0  0.0  \n",
      "\n",
      "[1670 rows x 18840 columns]\n"
     ]
    }
   ],
   "source": [
    "reviews_sparse_matrix_lsa, reviews_feature_names_lsa = vectorize_tfidf(reviews, min_df=7, max_df=0.8)"
   ]
  },
  {
   "cell_type": "markdown",
   "metadata": {},
   "source": [
    "# Reduce dimensions with LSA"
   ]
  },
  {
   "cell_type": "code",
   "execution_count": 14,
   "metadata": {
    "ExecuteTime": {
     "end_time": "2019-12-02T18:49:28.758156Z",
     "start_time": "2019-12-02T18:49:25.381119Z"
    }
   },
   "outputs": [],
   "source": [
    "reviews_lsa, lsa_components = reduce_dim_lsa(reviews_sparse_matrix_lsa, 14)"
   ]
  },
  {
   "cell_type": "code",
   "execution_count": 15,
   "metadata": {
    "ExecuteTime": {
     "end_time": "2019-12-02T18:49:28.823785Z",
     "start_time": "2019-12-02T18:49:28.764561Z"
    },
    "scrolled": true
   },
   "outputs": [
    {
     "name": "stdout",
     "output_type": "stream",
     "text": [
      "\n",
      "Topic: ' Horror Comedy '\n",
      "horror, comedy, funny, woman, music, action, girl, effect, kill, fun, laugh, sex, monster, kid, friend\n",
      "\n",
      "Topic: ' Gory '\n",
      "horror, vampire, zombie, monster, gore, alien, dracula, creature, effect, blood, scary, sci_fi, halloween, creepy, slasher\n",
      "\n",
      "Topic: ' Space Monster '\n",
      "alien, monster, animation, sci_fi, planet, space, science, creature, effect, ear, robot, scientist, giant, godzilla, ship\n",
      "\n",
      "Topic: ' Anime '\n",
      "vampire, animation, anime, dracula, disney, planet, cartoon, japanese, art, sci_fi, action, martial, hammer, version, fantasy\n",
      "\n",
      "Topic: ' Silly '\n",
      "comedy, vampire, funny, laugh, joke, hilarious, humor, fun, monster, gag, dracula, song, alien, funniest, kid\n",
      "\n",
      "Topic: ' Animated Monster Concert '\n",
      "animation, zombie, horror, band, anime, song, music, disney, cartoon, rock, concert, punk, musical, beatle, gore\n",
      "\n",
      "Topic: ' Kung Fu '\n",
      "martial, action, kung_fu, fight, japanese, kong, hong, dragon, zombie, anime, kill, animation, cop, violence, chinese\n",
      "\n",
      "Topic: ' Music Documentary '\n",
      "band, music, rock, concert, punk, song, monster, martial, drug, beatle, documentary, musical, album, footage, gang\n",
      "\n",
      "Topic: ' Creature Feature '\n",
      "zombie, alien, russian, sci_fi, planet, soviet, band, vampire, polish, space, science, ear, russia, fiction, war\n",
      "\n",
      "Topic: ' Foreign Monsters '\n",
      "monster, russian, soviet, zombie, godzilla, polish, martial, russia, frankenstein, japanese, dracula, poland, kung_fu, art, french\n",
      "\n",
      "Topic: ' Sex Monsters '\n",
      "sex, zombie, gay, porn, sexual, japanese, monster, woman, rape, anime, godzilla, erotic, martial, explicit, art\n",
      "\n",
      "Topic: ' Camp '\n",
      "zombie, monster, animation, noir, western, frankenstein, dracula, cop, gang, gangster, crime, lugosi, police, godzilla, italian\n",
      "\n",
      "Topic: ' British '\n",
      "russian, soviet, polish, poland, russia, gang, sex, anime, monster, animation, rape, violence, punk, cop, communist\n",
      "\n",
      "Topic: ' Soviet '\n",
      "polish, poland, band, killer, documentary, horror, python, concert, cop, funny, leprechaun, beatle, sketch, monty_python, joke\n"
     ]
    }
   ],
   "source": [
    "topic_names = ['Horror Comedy','Gory','Space Monster','Anime',\n",
    "               'Silly','Animated Monster Concert','Kung Fu',\n",
    "               'Music Documentary',\"Creature Feature\",'Foreign Monsters',\n",
    "               'Sex Monsters','Camp','British',\n",
    "               'Soviet']\n",
    "#                 ,'Monsters On Drugs',\n",
    "#                'Ridiculous', 'Holiday Monsters','Bollywood',\n",
    "#                'Holiday Space Race','Holiday Monsters','Spaghetti Western']#, 21, 22,'Foreign Silliness', 'British']\n",
    "display_topics(lsa_components, reviews_feature_names_lsa, 15, topic_names=topic_names)"
   ]
  },
  {
   "cell_type": "code",
   "execution_count": 16,
   "metadata": {
    "ExecuteTime": {
     "end_time": "2019-12-02T18:49:28.834504Z",
     "start_time": "2019-12-02T18:49:28.827527Z"
    }
   },
   "outputs": [],
   "source": [
    "# reviews_sparse_matrix_lsa, reviews_feature_names_lsa = vectorize_tfidf(reviews, min_df=7, max_df=0.8)\n",
    "# reviews_lsa, lsa_components = reduce_dim_lsa(reviews_sparse_matrix_lsa, 14)\n",
    "# topic_names = ['Horror Comedy','Gory','Space Monster','Anime',\n",
    "#                'Silly','Animated Monster Concert','Kung Fu',\n",
    "#                'Music Documentary',\"Creature Feature\",'Foreign Monsters',\n",
    "#                'Sex Monsters','Camp','British',\n",
    "#                'Soviet']\n",
    "# #                 ,'Monsters On Drugs',\n",
    "# #                'Ridiculous', 'Holiday Monsters','Bollywood',\n",
    "# #                'Holiday Space Race','Holiday Monsters','Spaghetti Western']#, 21, 22,'Foreign Silliness', 'British']\n",
    "# display_topics(lsa_components, reviews_feature_names_lsa, 15, topic_names=topic_names)\n",
    "\n",
    "# Topic: ' Horror Comedy '\n",
    "# horror, comedy, funny, woman, music, action, girl, effect, kill, fun, laugh, sex, monster, kid, friend\n",
    "\n",
    "# Topic: ' Gory '\n",
    "# horror, vampire, zombie, monster, gore, alien, dracula, creature, effect, blood, scary, sci_fi, halloween, creepy, slasher\n",
    "\n",
    "# Topic: ' Space Monster '\n",
    "# alien, monster, sci_fi, animation, planet, space, science, creature, effect, ear, scientist, robot, giant, godzilla, ship\n",
    "\n",
    "# Topic: ' Anime '\n",
    "# vampire, animation, anime, dracula, disney, planet, cartoon, japanese, art, sci_fi, action, martial, hammer, version, fantasy\n",
    "\n",
    "# Topic: ' Silly '\n",
    "# comedy, vampire, funny, laugh, joke, hilarious, humor, fun, monster, gag, dracula, song, funniest, kid, alien\n",
    "\n",
    "# Topic: ' Animated Monster Concert '\n",
    "# animation, zombie, horror, band, anime, song, music, disney, cartoon, rock, concert, punk, musical, gore, cat\n",
    "\n",
    "# Topic: ' Kung Fu '\n",
    "# martial, action, kung_fu, fight, japanese, kong, hong, dragon, zombie, anime, kill, cop, chinese, animation, violence\n",
    "\n",
    "# Topic: ' Music Documentary '\n",
    "# band, music, rock, concert, punk, song, monster, martial, drug, beatle, documentary, musical, album, gang, footage\n",
    "\n",
    "# Topic: ' Creature Feature '\n",
    "# zombie, alien, russian, sci_fi, planet, soviet, band, vampire, space, polish, russia, science, ear, punk, fiction\n",
    "\n",
    "# Topic: ' Foreign Monsters '\n",
    "# monster, russian, soviet, zombie, godzilla, polish, martial, russia, japanese, frankenstein, poland, kung_fu, art, dracula, french\n",
    "\n",
    "# Topic: ' Sex Monsters '\n",
    "# sex, zombie, gay, porn, sexual, monster, woman, japanese, french, martial, erotic, art, rape, kung_fu, godzilla\n",
    "\n",
    "# Topic: ' Camp '\n",
    "# zombie, monster, indian, noir, western, dracula, gang, disney, animation, godzilla, bollyd, india, gangster, frankenstein, family\n",
    "\n",
    "# Topic: ' British '\n",
    "# russian, soviet, russia, monster, animation, anime, gang, sex, punk, rape, violence, cop, western, moscow, woman\n",
    "\n",
    "# Topic: ' Soviet '\n",
    "# school, girl, teen, kid, martial, russian, zombie, child, teacher, kung_fu, christmas, werewolf, boy, soviet, parent\n"
   ]
  },
  {
   "cell_type": "code",
   "execution_count": 17,
   "metadata": {
    "ExecuteTime": {
     "end_time": "2019-12-02T18:49:28.846315Z",
     "start_time": "2019-12-02T18:49:28.838461Z"
    }
   },
   "outputs": [],
   "source": [
    "# Topic: ' Horror Comedy '\n",
    "# horror, comedy, funny, world, woman, music, performance, action, girl, effect, kill, fun, guy, young, laugh\n",
    "\n",
    "# Topic: ' Gory '\n",
    "# horror, vampire, monster, zombie, alien, gore, dracula, creature, effect, blood, scary, sci_fi, frankenstein, halloween, scare\n",
    "\n",
    "# Topic: ' Space Monster '\n",
    "# alien, monster, animation, sci_fi, planet, space, science, creature, godzilla, effect, giant, ear, robot, scientist, ship\n",
    "\n",
    "# Topic: ' Anime '\n",
    "# vampire, animation, anime, dracula, japanese, art, disney, planet, cartoon, world, beautiful, miyazaki, sci_fi, visual, action\n",
    "\n",
    "# Topic: ' Silly '\n",
    "# vampire, comedy, funny, laugh, dracula, joke, hilarious, humor, fun, gag, song, monster, funniest, kid, sketch\n",
    "\n",
    "# Topic: ' Monster Concert '\n",
    "# animation, zombie, horror, band, disney, anime, song, music, cartoon, rock, concert, punk, gore, musical, cat\n",
    "\n",
    "# Topic: ' Kung Fu '\n",
    "# martial, action, kung_fu, fight, japanese, kong, hong, dragon, kill, anime, violence, cop, gang, killer, chinese\n",
    "\n",
    "# Topic: ' Music Documentary '\n",
    "# band, music, rock, concert, monster, song, punk, beatle, drug, documentary, musical, album, footage, martial, musician\n",
    "\n",
    "# Topic: ' Creature Feature '\n",
    "# monster, godzilla, frankenstein, creature, giant, animation, kid, dracula, beast, japanese, child, girl, school, baron, toho\n",
    "\n",
    "# Topic: ' Soviet Monsters '\n",
    "# zombie, monster, russian, soviet, polish, martial, godzilla, french, japanese, poland, kung_fu, russia, band, art, comedy\n",
    "\n",
    "# Topic: ' Sex Monsters '\n",
    "# sex, gay, porn, zombie, sexual, japanese, woman, rape, anime, monster, alien, erotic, drug, martial, godzilla\n",
    "\n",
    "# Topic: ' Camp '\n",
    "# zombie, animation, monster, noir, cop, western, frankenstein, gangster, dracula, gang, crime, police, godzilla, drug, lugosi\n",
    "\n",
    "# Topic: ' Schoolkid Martial Artist '\n",
    "# zombie, school, girl, kid, teen, child, martial, disney, book, family, boy, young, moer, christmas, kung_fu\n",
    "\n",
    "# Topic: ' Schoolkid Soviet Gangster '\n",
    "# russian, soviet, russia, gang, girl, school, sex, rape, teen, moscow, western, polish, woman, kid, violence"
   ]
  },
  {
   "cell_type": "markdown",
   "metadata": {},
   "source": [
    "# Reduce Dimensions with LDA"
   ]
  },
  {
   "cell_type": "code",
   "execution_count": 18,
   "metadata": {
    "ExecuteTime": {
     "end_time": "2019-12-02T18:52:26.132330Z",
     "start_time": "2019-12-02T18:52:19.511633Z"
    }
   },
   "outputs": [
    {
     "name": "stdout",
     "output_type": "stream",
     "text": [
      "       aa       aan  aaron        ab  aback   abandon  abandonment     abba  \\\n",
      "0     0.0  0.000000    0.0  0.000000    0.0  0.000000          0.0  0.00000   \n",
      "1     0.0  0.000000    0.0  0.000000    0.0  0.000000          0.0  0.00000   \n",
      "2     0.0  0.000000    0.0  0.000000    0.0  0.000000          0.0  0.00000   \n",
      "3     0.0  0.000000    0.0  0.000000    0.0  0.004250          0.0  0.00000   \n",
      "4     0.0  0.000000    0.0  0.000000    0.0  0.000000          0.0  0.00000   \n",
      "5     0.0  0.000000    0.0  0.000000    0.0  0.000000          0.0  0.00000   \n",
      "6     0.0  0.000000    0.0  0.000000    0.0  0.000000          0.0  0.00000   \n",
      "7     0.0  0.000000    0.0  0.000000    0.0  0.000000          0.0  0.00000   \n",
      "8     0.0  0.000000    0.0  0.016791    0.0  0.007285          0.0  0.00000   \n",
      "9     0.0  0.000000    0.0  0.000000    0.0  0.000000          0.0  0.00000   \n",
      "10    0.0  0.000000    0.0  0.000000    0.0  0.000000          0.0  0.00000   \n",
      "11    0.0  0.000000    0.0  0.000000    0.0  0.000000          0.0  0.00000   \n",
      "12    0.0  0.000000    0.0  0.000000    0.0  0.000000          0.0  0.00000   \n",
      "13    0.0  0.000000    0.0  0.000000    0.0  0.000000          0.0  0.00000   \n",
      "14    0.0  0.000000    0.0  0.000000    0.0  0.000000          0.0  0.00000   \n",
      "15    0.0  0.000000    0.0  0.000000    0.0  0.000000          0.0  0.00000   \n",
      "16    0.0  0.009974    0.0  0.000000    0.0  0.008414          0.0  0.00000   \n",
      "17    0.0  0.000000    0.0  0.000000    0.0  0.005700          0.0  0.00000   \n",
      "18    0.0  0.000000    0.0  0.000000    0.0  0.000000          0.0  0.00000   \n",
      "19    0.0  0.000000    0.0  0.000000    0.0  0.006679          0.0  0.20013   \n",
      "20    0.0  0.000000    0.0  0.000000    0.0  0.000000          0.0  0.00000   \n",
      "21    0.0  0.000000    0.0  0.000000    0.0  0.007442          0.0  0.00000   \n",
      "22    0.0  0.000000    0.0  0.000000    0.0  0.000000          0.0  0.00000   \n",
      "23    0.0  0.000000    0.0  0.000000    0.0  0.003100          0.0  0.00000   \n",
      "24    0.0  0.000000    0.0  0.000000    0.0  0.010015          0.0  0.00000   \n",
      "25    0.0  0.000000    0.0  0.000000    0.0  0.005147          0.0  0.00000   \n",
      "26    0.0  0.000000    0.0  0.000000    0.0  0.000000          0.0  0.00000   \n",
      "27    0.0  0.000000    0.0  0.000000    0.0  0.014469          0.0  0.00000   \n",
      "28    0.0  0.000000    0.0  0.000000    0.0  0.000000          0.0  0.00000   \n",
      "29    0.0  0.000000    0.0  0.000000    0.0  0.014066          0.0  0.00000   \n",
      "...   ...       ...    ...       ...    ...       ...          ...      ...   \n",
      "1640  0.0  0.000000    0.0  0.000000    0.0  0.000000          0.0  0.00000   \n",
      "1641  0.0  0.000000    0.0  0.000000    0.0  0.007339          0.0  0.00000   \n",
      "1642  0.0  0.000000    0.0  0.000000    0.0  0.000000          0.0  0.00000   \n",
      "1643  0.0  0.000000    0.0  0.000000    0.0  0.000000          0.0  0.00000   \n",
      "1644  0.0  0.000000    0.0  0.000000    0.0  0.000000          0.0  0.00000   \n",
      "1645  0.0  0.000000    0.0  0.000000    0.0  0.000000          0.0  0.00000   \n",
      "1646  0.0  0.000000    0.0  0.000000    0.0  0.000000          0.0  0.00000   \n",
      "1647  0.0  0.000000    0.0  0.000000    0.0  0.000000          0.0  0.00000   \n",
      "1648  0.0  0.000000    0.0  0.000000    0.0  0.000000          0.0  0.00000   \n",
      "1649  0.0  0.000000    0.0  0.000000    0.0  0.000000          0.0  0.00000   \n",
      "1650  0.0  0.000000    0.0  0.000000    0.0  0.005569          0.0  0.00000   \n",
      "1651  0.0  0.000000    0.0  0.000000    0.0  0.000000          0.0  0.00000   \n",
      "1652  0.0  0.000000    0.0  0.000000    0.0  0.012315          0.0  0.00000   \n",
      "1653  0.0  0.000000    0.0  0.000000    0.0  0.009561          0.0  0.00000   \n",
      "1654  0.0  0.000000    0.0  0.000000    0.0  0.000000          0.0  0.00000   \n",
      "1655  0.0  0.000000    0.0  0.000000    0.0  0.000000          0.0  0.02578   \n",
      "1656  0.0  0.000000    0.0  0.000000    0.0  0.000000          0.0  0.00000   \n",
      "1657  0.0  0.000000    0.0  0.000000    0.0  0.000000          0.0  0.00000   \n",
      "1658  0.0  0.000000    0.0  0.000000    0.0  0.000000          0.0  0.00000   \n",
      "1659  0.0  0.000000    0.0  0.000000    0.0  0.000000          0.0  0.00000   \n",
      "1660  0.0  0.000000    0.0  0.000000    0.0  0.000000          0.0  0.00000   \n",
      "1661  0.0  0.000000    0.0  0.000000    0.0  0.014657          0.0  0.00000   \n",
      "1662  0.0  0.000000    0.0  0.000000    0.0  0.000000          0.0  0.00000   \n",
      "1663  0.0  0.000000    0.0  0.000000    0.0  0.000000          0.0  0.00000   \n",
      "1664  0.0  0.000000    0.0  0.000000    0.0  0.000000          0.0  0.00000   \n",
      "1665  0.0  0.000000    0.0  0.000000    0.0  0.000000          0.0  0.00000   \n",
      "1666  0.0  0.000000    0.0  0.000000    0.0  0.000000          0.0  0.00000   \n",
      "1667  0.0  0.000000    0.0  0.000000    0.0  0.000000          0.0  0.00000   \n",
      "1668  0.0  0.000000    0.0  0.000000    0.0  0.000000          0.0  0.00000   \n",
      "1669  0.0  0.000000    0.0  0.000000    0.0  0.013430          0.0  0.00000   \n",
      "\n",
      "      abbey     abbot  ...    zombie  zombifie      zone       zoo  zooland  \\\n",
      "0       0.0  0.000000  ...  0.008688       0.0  0.000000  0.000000      0.0   \n",
      "1       0.0  0.000000  ...  0.000000       0.0  0.000000  0.000000      0.0   \n",
      "2       0.0  0.000000  ...  0.000000       0.0  0.000000  0.000000      0.0   \n",
      "3       0.0  0.000000  ...  0.000000       0.0  0.000000  0.000000      0.0   \n",
      "4       0.0  0.000000  ...  0.000000       0.0  0.000000  0.000000      0.0   \n",
      "5       0.0  0.000000  ...  0.000000       0.0  0.000000  0.000000      0.0   \n",
      "6       0.0  0.000000  ...  0.000000       0.0  0.000000  0.000000      0.0   \n",
      "7       0.0  0.000000  ...  0.000000       0.0  0.000000  0.000000      0.0   \n",
      "8       0.0  0.000000  ...  0.000000       0.0  0.000000  0.000000      0.0   \n",
      "9       0.0  0.000000  ...  0.025764       0.0  0.000000  0.000000      0.0   \n",
      "10      0.0  0.016037  ...  0.000000       0.0  0.000000  0.000000      0.0   \n",
      "11      0.0  0.000000  ...  0.000000       0.0  0.000000  0.000000      0.0   \n",
      "12      0.0  0.000000  ...  0.000000       0.0  0.000000  0.000000      0.0   \n",
      "13      0.0  0.000000  ...  0.000000       0.0  0.000000  0.000000      0.0   \n",
      "14      0.0  0.000000  ...  0.000000       0.0  0.000000  0.000000      0.0   \n",
      "15      0.0  0.000000  ...  0.000000       0.0  0.000000  0.000000      0.0   \n",
      "16      0.0  0.000000  ...  0.000000       0.0  0.000000  0.000000      0.0   \n",
      "17      0.0  0.000000  ...  0.000000       0.0  0.000000  0.000000      0.0   \n",
      "18      0.0  0.000000  ...  0.000000       0.0  0.000000  0.000000      0.0   \n",
      "19      0.0  0.000000  ...  0.000000       0.0  0.000000  0.000000      0.0   \n",
      "20      0.0  0.000000  ...  0.000000       0.0  0.000000  0.000000      0.0   \n",
      "21      0.0  0.000000  ...  0.000000       0.0  0.000000  0.000000      0.0   \n",
      "22      0.0  0.000000  ...  0.000000       0.0  0.000000  0.000000      0.0   \n",
      "23      0.0  0.000000  ...  0.000000       0.0  0.000000  0.000000      0.0   \n",
      "24      0.0  0.000000  ...  0.000000       0.0  0.000000  0.000000      0.0   \n",
      "25      0.0  0.000000  ...  0.000000       0.0  0.000000  0.000000      0.0   \n",
      "26      0.0  0.000000  ...  0.000000       0.0  0.000000  0.000000      0.0   \n",
      "27      0.0  0.000000  ...  0.000000       0.0  0.000000  0.000000      0.0   \n",
      "28      0.0  0.000000  ...  0.000000       0.0  0.000000  0.000000      0.0   \n",
      "29      0.0  0.000000  ...  0.000000       0.0  0.000000  0.000000      0.0   \n",
      "...     ...       ...  ...       ...       ...       ...       ...      ...   \n",
      "1640    0.0  0.000000  ...  0.000000       0.0  0.000000  0.000000      0.0   \n",
      "1641    0.0  0.000000  ...  0.000000       0.0  0.000000  0.000000      0.0   \n",
      "1642    0.0  0.000000  ...  0.000000       0.0  0.000000  0.000000      0.0   \n",
      "1643    0.0  0.000000  ...  0.000000       0.0  0.000000  0.009511      0.0   \n",
      "1644    0.0  0.000000  ...  0.000000       0.0  0.000000  0.000000      0.0   \n",
      "1645    0.0  0.000000  ...  0.000000       0.0  0.009948  0.000000      0.0   \n",
      "1646    0.0  0.000000  ...  0.000000       0.0  0.000000  0.000000      0.0   \n",
      "1647    0.0  0.000000  ...  0.000000       0.0  0.000000  0.000000      0.0   \n",
      "1648    0.0  0.000000  ...  0.000000       0.0  0.000000  0.000000      0.0   \n",
      "1649    0.0  0.000000  ...  0.000000       0.0  0.013745  0.000000      0.0   \n",
      "1650    0.0  0.000000  ...  0.006529       0.0  0.000000  0.000000      0.0   \n",
      "1651    0.0  0.000000  ...  0.000000       0.0  0.000000  0.000000      0.0   \n",
      "1652    0.0  0.000000  ...  0.000000       0.0  0.000000  0.000000      0.0   \n",
      "1653    0.0  0.000000  ...  0.000000       0.0  0.000000  0.000000      0.0   \n",
      "1654    0.0  0.000000  ...  0.000000       0.0  0.000000  0.000000      0.0   \n",
      "1655    0.0  0.000000  ...  0.000000       0.0  0.000000  0.000000      0.0   \n",
      "1656    0.0  0.000000  ...  0.000000       0.0  0.000000  0.000000      0.0   \n",
      "1657    0.0  0.000000  ...  0.000000       0.0  0.007592  0.000000      0.0   \n",
      "1658    0.0  0.000000  ...  0.000000       0.0  0.000000  0.000000      0.0   \n",
      "1659    0.0  0.000000  ...  0.000000       0.0  0.000000  0.000000      0.0   \n",
      "1660    0.0  0.000000  ...  0.000000       0.0  0.000000  0.000000      0.0   \n",
      "1661    0.0  0.000000  ...  0.000000       0.0  0.000000  0.000000      0.0   \n",
      "1662    0.0  0.000000  ...  0.000000       0.0  0.000000  0.000000      0.0   \n",
      "1663    0.0  0.000000  ...  0.000000       0.0  0.000000  0.000000      0.0   \n",
      "1664    0.0  0.000000  ...  0.000000       0.0  0.000000  0.000000      0.0   \n",
      "1665    0.0  0.000000  ...  0.000000       0.0  0.000000  0.000000      0.0   \n",
      "1666    0.0  0.000000  ...  0.000000       0.0  0.000000  0.000000      0.0   \n",
      "1667    0.0  0.000000  ...  0.000000       0.0  0.000000  0.000000      0.0   \n",
      "1668    0.0  0.000000  ...  0.000000       0.0  0.000000  0.000000      0.0   \n",
      "1669    0.0  0.000000  ...  0.000000       0.0  0.000000  0.000000      0.0   \n",
      "\n",
      "          zoom  zorro  zucker  zulu   zy  \n",
      "0     0.000000    0.0     0.0   0.0  0.0  \n",
      "1     0.000000    0.0     0.0   0.0  0.0  \n",
      "2     0.000000    0.0     0.0   0.0  0.0  \n",
      "3     0.000000    0.0     0.0   0.0  0.0  \n",
      "4     0.000000    0.0     0.0   0.0  0.0  \n",
      "5     0.000000    0.0     0.0   0.0  0.0  \n",
      "6     0.000000    0.0     0.0   0.0  0.0  \n",
      "7     0.000000    0.0     0.0   0.0  0.0  \n",
      "8     0.000000    0.0     0.0   0.0  0.0  \n",
      "9     0.000000    0.0     0.0   0.0  0.0  \n",
      "10    0.000000    0.0     0.0   0.0  0.0  \n",
      "11    0.000000    0.0     0.0   0.0  0.0  \n",
      "12    0.000000    0.0     0.0   0.0  0.0  \n",
      "13    0.000000    0.0     0.0   0.0  0.0  \n",
      "14    0.000000    0.0     0.0   0.0  0.0  \n",
      "15    0.000000    0.0     0.0   0.0  0.0  \n",
      "16    0.000000    0.0     0.0   0.0  0.0  \n",
      "17    0.000000    0.0     0.0   0.0  0.0  \n",
      "18    0.000000    0.0     0.0   0.0  0.0  \n",
      "19    0.000000    0.0     0.0   0.0  0.0  \n",
      "20    0.000000    0.0     0.0   0.0  0.0  \n",
      "21    0.000000    0.0     0.0   0.0  0.0  \n",
      "22    0.000000    0.0     0.0   0.0  0.0  \n",
      "23    0.000000    0.0     0.0   0.0  0.0  \n",
      "24    0.000000    0.0     0.0   0.0  0.0  \n",
      "25    0.000000    0.0     0.0   0.0  0.0  \n",
      "26    0.000000    0.0     0.0   0.0  0.0  \n",
      "27    0.000000    0.0     0.0   0.0  0.0  \n",
      "28    0.000000    0.0     0.0   0.0  0.0  \n",
      "29    0.000000    0.0     0.0   0.0  0.0  \n",
      "...        ...    ...     ...   ...  ...  \n",
      "1640  0.000000    0.0     0.0   0.0  0.0  \n",
      "1641  0.000000    0.0     0.0   0.0  0.0  \n",
      "1642  0.008377    0.0     0.0   0.0  0.0  \n",
      "1643  0.000000    0.0     0.0   0.0  0.0  \n",
      "1644  0.006133    0.0     0.0   0.0  0.0  \n",
      "1645  0.000000    0.0     0.0   0.0  0.0  \n",
      "1646  0.000000    0.0     0.0   0.0  0.0  \n",
      "1647  0.000000    0.0     0.0   0.0  0.0  \n",
      "1648  0.000000    0.0     0.0   0.0  0.0  \n",
      "1649  0.000000    0.0     0.0   0.0  0.0  \n",
      "1650  0.000000    0.0     0.0   0.0  0.0  \n",
      "1651  0.000000    0.0     0.0   0.0  0.0  \n",
      "1652  0.000000    0.0     0.0   0.0  0.0  \n",
      "1653  0.000000    0.0     0.0   0.0  0.0  \n",
      "1654  0.000000    0.0     0.0   0.0  0.0  \n",
      "1655  0.000000    0.0     0.0   0.0  0.0  \n",
      "1656  0.000000    0.0     0.0   0.0  0.0  \n",
      "1657  0.000000    0.0     0.0   0.0  0.0  \n",
      "1658  0.000000    0.0     0.0   0.0  0.0  \n",
      "1659  0.000000    0.0     0.0   0.0  0.0  \n",
      "1660  0.000000    0.0     0.0   0.0  0.0  \n",
      "1661  0.000000    0.0     0.0   0.0  0.0  \n",
      "1662  0.000000    0.0     0.0   0.0  0.0  \n",
      "1663  0.000000    0.0     0.0   0.0  0.0  \n",
      "1664  0.000000    0.0     0.0   0.0  0.0  \n",
      "1665  0.000000    0.0     0.0   0.0  0.0  \n",
      "1666  0.000000    0.0     0.0   0.0  0.0  \n",
      "1667  0.000000    0.0     0.0   0.0  0.0  \n",
      "1668  0.000000    0.0     0.0   0.0  0.0  \n",
      "1669  0.000000    0.0     0.0   0.0  0.0  \n",
      "\n",
      "[1670 rows x 18840 columns]\n"
     ]
    }
   ],
   "source": [
    "reviews_sparse_matrix_lda, reviews_feature_names_lda = vectorize_tfidf(reviews, min_df=7, max_df=0.8)"
   ]
  },
  {
   "cell_type": "code",
   "execution_count": null,
   "metadata": {},
   "outputs": [],
   "source": []
  }
 ],
 "metadata": {
  "kernelspec": {
   "display_name": "Python 3",
   "language": "python",
   "name": "python3"
  },
  "language_info": {
   "codemirror_mode": {
    "name": "ipython",
    "version": 3
   },
   "file_extension": ".py",
   "mimetype": "text/x-python",
   "name": "python",
   "nbconvert_exporter": "python",
   "pygments_lexer": "ipython3",
   "version": "3.7.3"
  },
  "toc": {
   "base_numbering": 1,
   "nav_menu": {},
   "number_sections": true,
   "sideBar": true,
   "skip_h1_title": false,
   "title_cell": "Table of Contents",
   "title_sidebar": "Contents",
   "toc_cell": false,
   "toc_position": {},
   "toc_section_display": true,
   "toc_window_display": false
  },
  "varInspector": {
   "cols": {
    "lenName": 16,
    "lenType": 16,
    "lenVar": 40
   },
   "kernels_config": {
    "python": {
     "delete_cmd_postfix": "",
     "delete_cmd_prefix": "del ",
     "library": "var_list.py",
     "varRefreshCmd": "print(var_dic_list())"
    },
    "r": {
     "delete_cmd_postfix": ") ",
     "delete_cmd_prefix": "rm(",
     "library": "var_list.r",
     "varRefreshCmd": "cat(var_dic_list()) "
    }
   },
   "types_to_exclude": [
    "module",
    "function",
    "builtin_function_or_method",
    "instance",
    "_Feature"
   ],
   "window_display": false
  }
 },
 "nbformat": 4,
 "nbformat_minor": 2
}
