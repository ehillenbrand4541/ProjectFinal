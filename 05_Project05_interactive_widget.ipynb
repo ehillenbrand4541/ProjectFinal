{
 "cells": [
  {
   "cell_type": "markdown",
   "metadata": {},
   "source": [
    "# Imports"
   ]
  },
  {
   "cell_type": "code",
   "execution_count": null,
   "metadata": {
    "ExecuteTime": {
     "end_time": "2019-12-08T23:59:03.225998Z",
     "start_time": "2019-12-08T23:58:41.554603Z"
    }
   },
   "outputs": [],
   "source": [
    "import pickle\n",
    "import pandas as pd\n",
    "from p05_nlp import display_topics\n",
    "from sklearn.metrics.pairwise import cosine_similarity"
   ]
  },
  {
   "cell_type": "code",
   "execution_count": null,
   "metadata": {
    "ExecuteTime": {
     "end_time": "2019-12-08T23:59:03.430339Z",
     "start_time": "2019-12-08T23:59:03.421812Z"
    }
   },
   "outputs": [],
   "source": [
    "import ipywidgets as widgets\n",
    "from IPython.display import display\n",
    "from ipywidgets import HBox, Label, IntSlider, FloatSlider\n",
    "from ipywidgets import Button, Layout"
   ]
  },
  {
   "cell_type": "code",
   "execution_count": null,
   "metadata": {
    "ExecuteTime": {
     "end_time": "2019-12-08T23:59:05.906690Z",
     "start_time": "2019-12-08T23:59:03.672435Z"
    }
   },
   "outputs": [],
   "source": [
    "from PIL import Image\n",
    "import requests\n",
    "from io import BytesIO"
   ]
  },
  {
   "cell_type": "markdown",
   "metadata": {},
   "source": [
    "# Pickles"
   ]
  },
  {
   "cell_type": "code",
   "execution_count": null,
   "metadata": {
    "ExecuteTime": {
     "end_time": "2019-12-08T23:59:08.884506Z",
     "start_time": "2019-12-08T23:59:06.107812Z"
    }
   },
   "outputs": [],
   "source": [
    "with open(\"df_all_cleaned.pickle\", \"rb\") as read_file:\n",
    "    df_all = pickle.load(read_file)"
   ]
  },
  {
   "cell_type": "code",
   "execution_count": null,
   "metadata": {
    "ExecuteTime": {
     "end_time": "2019-12-08T23:59:10.268019Z",
     "start_time": "2019-12-08T23:59:10.194363Z"
    }
   },
   "outputs": [],
   "source": [
    "with open(\"df_topics.pickle\", \"rb\") as read_file:\n",
    "    df_topics = pickle.load(read_file)"
   ]
  },
  {
   "cell_type": "code",
   "execution_count": null,
   "metadata": {
    "ExecuteTime": {
     "end_time": "2019-12-08T23:59:12.217941Z",
     "start_time": "2019-12-08T23:59:12.165704Z"
    }
   },
   "outputs": [],
   "source": [
    "with open(\"reviews_nmf_df.pickle\", \"rb\") as read_file:\n",
    "    reviews_nmf_df = pickle.load(read_file)"
   ]
  },
  {
   "cell_type": "code",
   "execution_count": null,
   "metadata": {
    "ExecuteTime": {
     "end_time": "2019-12-08T23:59:15.010780Z",
     "start_time": "2019-12-08T23:59:14.931991Z"
    }
   },
   "outputs": [],
   "source": [
    "with open(\"nmf_topics.pickle\", \"rb\") as read_file:\n",
    "    topic_labels = pickle.load(read_file)"
   ]
  },
  {
   "cell_type": "code",
   "execution_count": null,
   "metadata": {
    "ExecuteTime": {
     "end_time": "2019-12-08T23:59:18.114720Z",
     "start_time": "2019-12-08T23:59:18.030499Z"
    }
   },
   "outputs": [],
   "source": [
    "with open(\"nmf_components.pickle\", \"rb\") as read_file:\n",
    "    nmf_components = pickle.load(read_file)"
   ]
  },
  {
   "cell_type": "code",
   "execution_count": null,
   "metadata": {
    "ExecuteTime": {
     "end_time": "2019-12-08T23:59:20.025696Z",
     "start_time": "2019-12-08T23:59:19.966688Z"
    }
   },
   "outputs": [],
   "source": [
    "with open(\"reviews_feature_names_nmf.pickle\", \"rb\") as read_file:\n",
    "    topic_contents = pickle.load(read_file)"
   ]
  },
  {
   "cell_type": "code",
   "execution_count": null,
   "metadata": {
    "ExecuteTime": {
     "end_time": "2019-12-08T23:32:48.937309Z",
     "start_time": "2019-12-08T23:32:48.824856Z"
    }
   },
   "outputs": [],
   "source": [
    "display_topics(nmf_components, topic_contents, num_top_words=15, topic_names=topic_labels)"
   ]
  },
  {
   "cell_type": "markdown",
   "metadata": {},
   "source": [
    "# Functions"
   ]
  },
  {
   "cell_type": "markdown",
   "metadata": {},
   "source": [
    "Generic/straightforward recommendation system"
   ]
  },
  {
   "cell_type": "code",
   "execution_count": null,
   "metadata": {
    "ExecuteTime": {
     "end_time": "2019-12-06T23:39:53.923760Z",
     "start_time": "2019-12-06T23:39:53.908141Z"
    }
   },
   "outputs": [],
   "source": [
    "def recommender(movie):\n",
    "    print(\"Movies most similar to '{}':\".format(movie))\n",
    "    movie_mask = df_topics['title']== movie\n",
    "    movie_sim = cosine_similarity(reviews_nmf_df[~movie_mask],reviews_nmf_df[movie_mask])\n",
    "    movie_sim_df = pd.concat([df_all['title'],pd.DataFrame(movie_sim)], axis=1)\n",
    "    movie_sim_df.rename(columns={'title':'title', 0:'similarity'}, inplace=True)\n",
    "    return movie_sim_df.sort_values(by='similarity',ascending=False).head(5)"
   ]
  },
  {
   "cell_type": "markdown",
   "metadata": {},
   "source": [
    "Function that takes topic distribution as a dictionary"
   ]
  },
  {
   "cell_type": "code",
   "execution_count": null,
   "metadata": {
    "ExecuteTime": {
     "end_time": "2019-12-06T23:39:53.933512Z",
     "start_time": "2019-12-06T23:39:53.927940Z"
    }
   },
   "outputs": [],
   "source": [
    "dict_in = {'Gory/Scary': [0.012183], \"Silly\": [0.41586], \"Living Dead\": [0.909248]}"
   ]
  },
  {
   "cell_type": "code",
   "execution_count": null,
   "metadata": {
    "ExecuteTime": {
     "end_time": "2019-12-06T23:39:53.956596Z",
     "start_time": "2019-12-06T23:39:53.936729Z"
    }
   },
   "outputs": [],
   "source": [
    "title_mask = df_topics['title']=='Shaun of the Dead'\n",
    "dict_in = df_topics[title_mask].iloc[:,1:].to_dict('list') "
   ]
  },
  {
   "cell_type": "code",
   "execution_count": null,
   "metadata": {
    "ExecuteTime": {
     "end_time": "2019-12-06T23:39:53.986128Z",
     "start_time": "2019-12-06T23:39:53.961697Z"
    }
   },
   "outputs": [],
   "source": [
    "def topic_levels(dict_in):\n",
    "    '''\n",
    "    Generates a list of top 5 most similar movies based on topic distribution from sliders.\n",
    "    Does not include the input movie used to generate sliders.\n",
    "    'Similarity' column indicates similarity to the sliders, not to the input movie.\n",
    "    '''\n",
    "    # create df_in from dict_in\n",
    "    df_in = pd.DataFrame.from_dict(dict_in)\n",
    "    topics = df_in.columns\n",
    "    # get slice of df_topics\n",
    "    df_slice = df_topics.loc[~title_mask,topics]\n",
    "    # do cosine similarity\n",
    "    movie_sim = cosine_similarity(df_slice,df_in)\n",
    "    # get recommendations\n",
    "    movie_rec = pd.concat([df_all['title'],pd.DataFrame(movie_sim)], axis=1)\n",
    "    movie_rec.rename(columns={'title':'title', 0:'similarity'}, inplace=True)\n",
    "    #return list of movies\n",
    "    return movie_rec.sort_values(by='similarity',ascending=False).head(5)"
   ]
  },
  {
   "cell_type": "code",
   "execution_count": null,
   "metadata": {
    "ExecuteTime": {
     "end_time": "2019-12-06T23:39:54.513248Z",
     "start_time": "2019-12-06T23:39:53.992995Z"
    }
   },
   "outputs": [],
   "source": [
    "topic_levels(dict_in)"
   ]
  },
  {
   "cell_type": "markdown",
   "metadata": {},
   "source": [
    "# Full Recommendation Widget"
   ]
  },
  {
   "cell_type": "code",
   "execution_count": null,
   "metadata": {
    "ExecuteTime": {
     "end_time": "2019-12-06T23:39:54.522434Z",
     "start_time": "2019-12-06T23:39:54.517514Z"
    }
   },
   "outputs": [],
   "source": [
    "import ipywidgets as widgets\n",
    "from IPython.display import display\n",
    "from ipywidgets import HBox, Label, IntSlider\n",
    "from ipywidgets import Button, Layout"
   ]
  },
  {
   "cell_type": "code",
   "execution_count": null,
   "metadata": {
    "ExecuteTime": {
     "end_time": "2019-12-06T23:39:54.533355Z",
     "start_time": "2019-12-06T23:39:54.525601Z"
    }
   },
   "outputs": [],
   "source": [
    "dict_in"
   ]
  },
  {
   "cell_type": "markdown",
   "metadata": {
    "heading_collapsed": true
   },
   "source": [
    "## All in one (doesn't quite work)"
   ]
  },
  {
   "cell_type": "code",
   "execution_count": null,
   "metadata": {
    "ExecuteTime": {
     "end_time": "2019-12-07T22:31:29.776027Z",
     "start_time": "2019-12-07T22:31:29.667435Z"
    },
    "hidden": true
   },
   "outputs": [],
   "source": [
    "btn_layout = Layout(width='20%', height='29px')\n",
    "gen_btn = Button(description='Generate', layout=btn_layout)\n",
    "rec_btn = Button(description='Recommend', layout=btn_layout)\n",
    "\n",
    "text_layout = Layout(width='50%')\n",
    "movie_title = widgets.Text(placeholder='Enter a movie title', description='Title:', \n",
    "                           layout=text_layout, disabled=False)\n",
    "\n",
    "display(HBox([movie_title, gen_btn]))\n",
    "\n",
    "def on_gen_btn_clicked(gen_btn):\n",
    "    movie_info(movie_title)\n",
    "    dict_in = df_topics[df_topics['title']==movie_title.value].iloc[:,1:].to_dict('list')\n",
    "    generate_sliders(movie_title, dict_in)\n",
    "    # display the second button \"recommend movies based on these topic levels\"\n",
    "    display(rec_btn)\n",
    "\n",
    "def movie_info(movie_title):\n",
    "    title = movie_title.value\n",
    "    print(\"You entered: {}\".format(title))\n",
    "    url = 'https://' + list(df_all[df_all['title']==title]['poster_url'])[0]\n",
    "    response = requests.get(url)\n",
    "    img = Image.open(BytesIO(response.content))\n",
    "    display(img)\n",
    "        \n",
    "def generate_sliders(movie_title, dict_in):\n",
    "    sliders={}\n",
    "    float_text={}\n",
    "    style = {'description_width': '150px'}\n",
    "    sliders_layout = {'width': '60%'}\n",
    "    float_text_layout = {'width': '70px'}\n",
    "    for key, val in dict_in.items():\n",
    "        value = val[0]*100\n",
    "        sliders[key] = widgets.FloatSlider(value=value, min=0.0, max=100.0, \n",
    "                                           readout_format='.2f', description=key,\n",
    "                                           style=style, layout=sliders_layout)\n",
    "        float_text[key] = widgets.FloatText(value=value, step='0.01', layout=float_text_layout)\n",
    "        display(HBox([sliders[key], float_text[key]]))\n",
    "\n",
    "    links = {}\n",
    "    for key, val in dict_in.items():\n",
    "        links[key] = widgets.jslink((float_text[key], 'value'), (sliders[key], 'value'))\n",
    "        \n",
    "def on_rec_btn_clicked(rec_btn):\n",
    "    # display recommended movies based on topic distribution sliders\n",
    "    pass\n",
    "\n",
    "def recommend(dict_in):\n",
    "    sliders_dict = {}\n",
    "    topics = list(dict_in.keys())\n",
    "    for top in topics:\n",
    "        sliders_dict[top] = [sliders[top].value/100]\n",
    "    recommended = topic_levels(sliders_dict)\n",
    "\n",
    "def topic_levels(sliders_dict):\n",
    "    '''\n",
    "    Generates a list of top 5 most similar movies based on topic distribution from sliders.\n",
    "    Does not include the input movie used to generate sliders.\n",
    "    'Similarity' column indicates similarity to the sliders, not to the input movie.\n",
    "    '''\n",
    "    # create df_in from sliders_dict\n",
    "    df_in = pd.DataFrame.from_dict(sliders_dict)\n",
    "    topics = df_in.columns\n",
    "    # get slice of df_topics\n",
    "    df_slice = df_topics.loc[~title_mask,topics]\n",
    "    # do cosine similarity\n",
    "    movie_sim = cosine_similarity(df_slice,df_in)\n",
    "    # get recommendations\n",
    "    movie_rec = pd.concat([df_all['title'],pd.DataFrame(movie_sim)], axis=1)\n",
    "    movie_rec.rename(columns={'title':'title', 0:'similarity'}, inplace=True)\n",
    "    #return list of movies\n",
    "    return movie_rec.sort_values(by='similarity',ascending=False).head(5)\n",
    "\n",
    "gen_btn.on_click(on_gen_btn_clicked)"
   ]
  },
  {
   "cell_type": "markdown",
   "metadata": {
    "heading_collapsed": true
   },
   "source": [
    "## All in one, version 2 (works?)"
   ]
  },
  {
   "cell_type": "code",
   "execution_count": null,
   "metadata": {
    "ExecuteTime": {
     "end_time": "2019-12-08T23:56:22.792628Z",
     "start_time": "2019-12-08T23:56:22.658773Z"
    },
    "hidden": true
   },
   "outputs": [],
   "source": [
    "btn_layout = Layout(width='20%', height='29px')\n",
    "gen_btn = Button(description='Generate', layout=btn_layout)\n",
    "rec_btn = Button(description='Recommend', layout=btn_layout)\n",
    "\n",
    "text_layout = Layout(width='50%')\n",
    "movie_title = widgets.Text(placeholder='Enter a movie title', description='Title:', \n",
    "                           layout=text_layout, disabled=False)\n",
    "\n",
    "display(HBox([movie_title, gen_btn]))\n",
    "    \n",
    "def on_gen_btn_clicked(gen_btn):\n",
    "    movie_info(movie_title)\n",
    "    sliders={}\n",
    "    float_text={}\n",
    "    sliders_style = {'description_width': '150px'}\n",
    "    sliders_layout = {'width': '60%'}\n",
    "    float_text_layout = {'width': '70px'}\n",
    "    dict_in = df_topics[df_topics['title']==movie_title.value].iloc[:,1:].to_dict('list')\n",
    "    \n",
    "    for key, val in dict_in.items():\n",
    "        value = val[0]*100\n",
    "        sliders[key] = widgets.FloatSlider(value=value, min=0.0, max=100.0, \n",
    "                                           readout_format='.2f', description=key,\n",
    "                                           style=sliders_style, layout=sliders_layout)\n",
    "        float_text[key] = widgets.FloatText(value=value, step='0.01', layout=float_text_layout)\n",
    "    \n",
    "    links = {}\n",
    "    for key, val in dict_in.items():\n",
    "        links[key] = widgets.jslink((float_text[key], 'value'), (sliders[key], 'value'))\n",
    "        display(HBox([sliders[key], float_text[key]]))        \n",
    "    \n",
    "    # display the second button \"recommend movies based on these topic levels\"\n",
    "    display(rec_btn)\n",
    "\n",
    "def movie_info(movie_title):\n",
    "    title = movie_title.value\n",
    "    print(\"You entered: {}\".format(title))\n",
    "    url = 'https://' + list(df_all[df_all['title']==title]['poster_url'])[0]\n",
    "    response = requests.get(url)\n",
    "    img = Image.open(BytesIO(response.content))\n",
    "    display(img)\n",
    "        \n",
    "def on_rec_btn_clicked(rec_btn):\n",
    "    # display recommended movies based on topic distribution sliders\n",
    "    dict_in = df_topics[df_topics['title']==movie_title.value].iloc[:,1:].to_dict('list')\n",
    "    sliders_dict = {}\n",
    "    topics = list(dict_in.keys())\n",
    "    for top in topics:\n",
    "        sliders_dict[top] = [sliders[top].value/100]\n",
    "    recommended = topic_levels(sliders_dict)\n",
    "    titles = list(recommended['title'])\n",
    "    show_posters(titles)\n",
    "    \n",
    "\n",
    "def show_posters(titles):\n",
    "    posters = {}\n",
    "    for title in titles:\n",
    "        url = 'https://' + list(df_all[df_all['title']==title]['poster_url'])[0]\n",
    "        response = requests.get(url)\n",
    "        img = Image.open(BytesIO(response.content)) # to save img as variable\n",
    "        posters[title] = img\n",
    "        display(img)\n",
    "#     images = [img for title,img in posters.items()]\n",
    "\n",
    "def topic_levels(sliders_dict):\n",
    "    '''\n",
    "    Generates a list of top 5 most similar movies based on topic distribution from sliders.\n",
    "    Does not include the input movie used to generate sliders.\n",
    "    'Similarity' column indicates similarity to the sliders, not to the input movie.\n",
    "    '''\n",
    "    # create df_in from sliders_dict\n",
    "    df_in = pd.DataFrame.from_dict(sliders_dict)\n",
    "    topics = df_in.columns\n",
    "    # get slice of df_topics\n",
    "    df_slice = df_topics.loc[~title_mask,topics]\n",
    "    # do cosine similarity\n",
    "    movie_sim = cosine_similarity(df_slice,df_in)\n",
    "    # get recommendations\n",
    "    movie_rec = pd.concat([df_all['title'],pd.DataFrame(movie_sim)], axis=1)\n",
    "    movie_rec.rename(columns={'title':'title', 0:'similarity'}, inplace=True)\n",
    "    #return list of movies\n",
    "    return movie_rec.sort_values(by='similarity',ascending=False).head(5)\n",
    "\n",
    "gen_btn.on_click(on_gen_btn_clicked)\n",
    "rec_btn.on_click(on_rec_btn_clicked)"
   ]
  },
  {
   "cell_type": "markdown",
   "metadata": {},
   "source": [
    "## Interactive Recommendation Widget"
   ]
  },
  {
   "cell_type": "code",
   "execution_count": null,
   "metadata": {
    "ExecuteTime": {
     "end_time": "2019-12-09T06:06:40.314510Z",
     "start_time": "2019-12-09T06:06:40.239483Z"
    },
    "code_folding": [
     0
    ]
   },
   "outputs": [],
   "source": [
    "# create text box to receive input movie\n",
    "btn_layout = Layout(width='20%', height='29px')\n",
    "gen_btn = Button(description='Generate', layout=btn_layout)\n",
    "# rec_btn = Button(description='Recommend', layout=btn_layout)\n",
    "\n",
    "text_layout = Layout(width='50%')\n",
    "movie_title = widgets.Text(placeholder='Enter a movie title', description='Title:', \n",
    "                           layout=text_layout, disabled=False)\n",
    "display(HBox([movie_title, gen_btn]))\n",
    "\n",
    "def movie_info(movie_title):\n",
    "    title = movie_title.value\n",
    "    print(\"You entered: {}\".format(title))\n",
    "    url = 'https://' + list(df_all[df_all['title']==title]['poster_url'])[0]\n",
    "    response = requests.get(url)\n",
    "    img = Image.open(BytesIO(response.content))\n",
    "    display(img)\n",
    "    \n",
    "def on_gen_btn_clicked(gen_btn):\n",
    "    movie_info(movie_title)\n",
    "    \n",
    "gen_btn.on_click(on_gen_btn_clicked)\n"
   ]
  },
  {
   "cell_type": "code",
   "execution_count": null,
   "metadata": {
    "ExecuteTime": {
     "end_time": "2019-12-09T06:07:06.519193Z",
     "start_time": "2019-12-09T06:07:05.768710Z"
    },
    "code_folding": [
     0
    ]
   },
   "outputs": [],
   "source": [
    "# generate sliders based on input movie's topic distribution dictionary\n",
    "title_mask = df_topics['title']==movie_title.value\n",
    "dict_in = df_topics[title_mask].iloc[:,1:].to_dict('list') \n",
    "sliders={}\n",
    "float_text={}\n",
    "style = {'description_width': '150px'}\n",
    "sliders_layout = {'width': '60%'}\n",
    "float_text_layout = {'width': '70px'}\n",
    "for key, val in dict_in.items():\n",
    "    value = val[0]*100\n",
    "    sliders[key] = widgets.FloatSlider(value=value, min=0.0, max=100.0, \n",
    "                                       readout_format='.2f', description=key,\n",
    "                                       style=style, layout=sliders_layout)\n",
    "    float_text[key] = widgets.FloatText(value=value, step='0.01', layout=float_text_layout)\n",
    "    display(HBox([sliders[key], float_text[key]]))\n",
    "\n",
    "links = {}\n",
    "for key, val in dict_in.items():\n",
    "    links[key] = widgets.jslink((float_text[key], 'value'), (sliders[key], 'value'))"
   ]
  },
  {
   "cell_type": "code",
   "execution_count": null,
   "metadata": {
    "ExecuteTime": {
     "end_time": "2019-12-09T06:07:44.072642Z",
     "start_time": "2019-12-09T06:07:44.025304Z"
    },
    "code_folding": [
     0
    ],
    "scrolled": true
   },
   "outputs": [],
   "source": [
    "# get recommended movies\n",
    "sliders_dict = {}\n",
    "topics = list(dict_in.keys())\n",
    "for top in topics:\n",
    "    sliders_dict[top] = [sliders[top].value/100]\n",
    "\n",
    "def topic_levels(dict_in):\n",
    "    '''\n",
    "    Generates a list of top 5 most similar movies based on topic distribution from sliders.\n",
    "    Does not include the input movie used to generate sliders.\n",
    "    'Similarity' column indicates similarity to the sliders, not to the input movie.\n",
    "    '''\n",
    "    # create df_in from dict_in\n",
    "    df_in = pd.DataFrame.from_dict(dict_in)\n",
    "    topics = df_in.columns\n",
    "    # get slice of df_topics\n",
    "    df_slice = df_topics.loc[~title_mask,topics]\n",
    "    # do cosine similarity\n",
    "    movie_sim = cosine_similarity(df_slice,df_in)\n",
    "    # get recommendations\n",
    "    movie_rec = pd.concat([df_all['title'],pd.DataFrame(movie_sim)], axis=1)\n",
    "    movie_rec.rename(columns={'title':'title', 0:'similarity'}, inplace=True)\n",
    "    #return list of movies\n",
    "    return movie_rec.sort_values(by='similarity',ascending=False).head(5)\n",
    "recommended = topic_levels(sliders_dict)\n",
    "recommended"
   ]
  },
  {
   "cell_type": "code",
   "execution_count": null,
   "metadata": {
    "ExecuteTime": {
     "end_time": "2019-12-09T05:39:33.471680Z",
     "start_time": "2019-12-09T05:39:32.158159Z"
    },
    "code_folding": [
     0
    ]
   },
   "outputs": [],
   "source": [
    "# show the posters for recommended movies\n",
    "titles = list(recommended['title'])\n",
    "def show_posters(titles):\n",
    "    posters = {}\n",
    "    for title in titles:\n",
    "        url = 'https://' + list(df_all[df_all['title']==title]['poster_url'])[0]\n",
    "        response = requests.get(url)\n",
    "        img = Image.open(BytesIO(response.content)) # to save img as variable\n",
    "        posters[title] = img\n",
    "        display(img)\n",
    "#     print([img for title,img in posters.items()])\n",
    "#     display(HBox[img for title,img in posters.items()])\n",
    "    images = [img for title,img in posters.items()]\n",
    "        \n",
    "show_posters(titles)"
   ]
  },
  {
   "cell_type": "markdown",
   "metadata": {
    "heading_collapsed": true
   },
   "source": [
    "# Appendix"
   ]
  },
  {
   "cell_type": "markdown",
   "metadata": {
    "hidden": true
   },
   "source": [
    "Get the movie poster from the title"
   ]
  },
  {
   "cell_type": "code",
   "execution_count": null,
   "metadata": {
    "ExecuteTime": {
     "end_time": "2019-12-06T23:40:01.183538Z",
     "start_time": "2019-12-06T23:39:55.128131Z"
    },
    "hidden": true
   },
   "outputs": [],
   "source": [
    "from PIL import Image\n",
    "import requests\n",
    "from io import BytesIO\n",
    "\n",
    "title='Shaun of the Dead'\n",
    "url = 'https://' + list(df_all[df_all['title']==title]['poster_url'])[0]\n",
    "response = requests.get(url)\n",
    "# img = Image.open(BytesIO(response.content)) # to save img as variable\n",
    "Image.open(BytesIO(response.content))"
   ]
  },
  {
   "cell_type": "code",
   "execution_count": null,
   "metadata": {
    "ExecuteTime": {
     "end_time": "2019-12-07T21:03:34.640296Z",
     "start_time": "2019-12-07T21:03:33.236275Z"
    },
    "hidden": true
   },
   "outputs": [],
   "source": [
    "# titles=['Shaun of the Dead']\n",
    "titles = list(recommended['title'])\n",
    "def show_posters(titles):\n",
    "    for title in titles:\n",
    "        url = 'https://' + list(df_all[df_all['title']==title]['poster_url'])[0]\n",
    "        response = requests.get(url)\n",
    "        # img = Image.open(BytesIO(response.content)) # to save img as variable\n",
    "        display(Image.open(BytesIO(response.content)))\n",
    "        \n",
    "show_posters(titles)"
   ]
  },
  {
   "cell_type": "markdown",
   "metadata": {
    "hidden": true
   },
   "source": [
    "FloatSlider parameters"
   ]
  },
  {
   "cell_type": "code",
   "execution_count": null,
   "metadata": {
    "ExecuteTime": {
     "end_time": "2019-12-06T23:40:01.203548Z",
     "start_time": "2019-12-06T23:40:01.187199Z"
    },
    "hidden": true
   },
   "outputs": [],
   "source": [
    "widgets.FloatSlider(\n",
    "    value=7.5,\n",
    "    min=0,\n",
    "    max=10.0,\n",
    "    step=0.1,\n",
    "    description='Test:',\n",
    "    disabled=False,\n",
    "    continuous_update=False,\n",
    "    orientation='horizontal',\n",
    "    readout=True,\n",
    "    readout_format='.1f',\n",
    ")"
   ]
  },
  {
   "cell_type": "markdown",
   "metadata": {
    "hidden": true
   },
   "source": [
    "Text Box next to Slider; takes Float input and updates slider."
   ]
  },
  {
   "cell_type": "code",
   "execution_count": null,
   "metadata": {
    "ExecuteTime": {
     "end_time": "2019-12-06T23:49:14.336699Z",
     "start_time": "2019-12-06T23:49:14.296650Z"
    },
    "hidden": true
   },
   "outputs": [],
   "source": [
    "text = widgets.FloatText()\n",
    "slider = widgets.FloatSlider()\n",
    "display(HBox([text,slider]))\n",
    "\n",
    "mylink = widgets.jslink((text, 'value'), (slider, 'value'))"
   ]
  },
  {
   "cell_type": "code",
   "execution_count": null,
   "metadata": {
    "ExecuteTime": {
     "end_time": "2019-12-06T23:51:54.243416Z",
     "start_time": "2019-12-06T23:51:54.227494Z"
    },
    "hidden": true
   },
   "outputs": [],
   "source": [
    "text.keys"
   ]
  },
  {
   "cell_type": "code",
   "execution_count": null,
   "metadata": {
    "ExecuteTime": {
     "end_time": "2019-12-07T00:02:19.720295Z",
     "start_time": "2019-12-07T00:02:19.693453Z"
    },
    "hidden": true
   },
   "outputs": [],
   "source": [
    "btn_test = widgets.Button(description='Test')\n",
    "display(btn_test)\n",
    " \n",
    " \n",
    "def my_event_handler(btn_object):\n",
    "    print('You pressed the {} button!'.format(btn_object.description))\n",
    " \n",
    "btn_test.on_click(my_event_handler)"
   ]
  },
  {
   "cell_type": "code",
   "execution_count": null,
   "metadata": {
    "ExecuteTime": {
     "end_time": "2019-12-07T22:18:07.209557Z",
     "start_time": "2019-12-07T22:18:07.188027Z"
    },
    "hidden": true
   },
   "outputs": [],
   "source": [
    "rec_btn = Button(description='Recommend', layout=btn_layout)\n",
    "display(rec_btn)"
   ]
  },
  {
   "cell_type": "code",
   "execution_count": null,
   "metadata": {
    "hidden": true
   },
   "outputs": [],
   "source": []
  }
 ],
 "metadata": {
  "kernelspec": {
   "display_name": "Python 3",
   "language": "python",
   "name": "python3"
  },
  "language_info": {
   "codemirror_mode": {
    "name": "ipython",
    "version": 3
   },
   "file_extension": ".py",
   "mimetype": "text/x-python",
   "name": "python",
   "nbconvert_exporter": "python",
   "pygments_lexer": "ipython3",
   "version": "3.7.3"
  },
  "toc": {
   "base_numbering": 1,
   "nav_menu": {},
   "number_sections": true,
   "sideBar": true,
   "skip_h1_title": false,
   "title_cell": "Table of Contents",
   "title_sidebar": "Contents",
   "toc_cell": false,
   "toc_position": {},
   "toc_section_display": true,
   "toc_window_display": false
  },
  "varInspector": {
   "cols": {
    "lenName": 16,
    "lenType": 16,
    "lenVar": 40
   },
   "kernels_config": {
    "python": {
     "delete_cmd_postfix": "",
     "delete_cmd_prefix": "del ",
     "library": "var_list.py",
     "varRefreshCmd": "print(var_dic_list())"
    },
    "r": {
     "delete_cmd_postfix": ") ",
     "delete_cmd_prefix": "rm(",
     "library": "var_list.r",
     "varRefreshCmd": "cat(var_dic_list()) "
    }
   },
   "types_to_exclude": [
    "module",
    "function",
    "builtin_function_or_method",
    "instance",
    "_Feature"
   ],
   "window_display": false
  }
 },
 "nbformat": 4,
 "nbformat_minor": 2
}
